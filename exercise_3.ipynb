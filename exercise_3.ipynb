{
 "cells": [
  {
   "cell_type": "markdown",
   "metadata": {},
   "source": [
    "# DATA20001 Deep Learning - Exercise 3\n",
    "\n",
    "**Due Tuesday November 21, before 12:00 PM (noon)**\n",
    "\n",
    "In this second computer exercise we are going to work with images and convolutional neural networks, or CNNs. The entire exercise will be done using [Keras](https://keras.io/)."
   ]
  },
  {
   "cell_type": "markdown",
   "metadata": {},
   "source": [
    "## Exercise 3.1. A simple CNN (2 points)\n",
    "\n",
    "We'll start by showing you step by step how to create a simple CNN in Keras.  At some points you'll have to fill some code yourself. You can refer to the [Keras documentation](https://keras.io/) to find the right commands.\n",
    "\n",
    "First, let's load all the needed libraries."
   ]
  },
  {
   "cell_type": "code",
   "execution_count": 1,
   "metadata": {},
   "outputs": [
    {
     "name": "stderr",
     "output_type": "stream",
     "text": [
      "Using TensorFlow backend.\n"
     ]
    }
   ],
   "source": [
    "%matplotlib inline\n",
    "\n",
    "from keras.models import Sequential\n",
    "from keras.layers import *\n",
    "from keras.optimizers import *\n",
    "from keras.layers.convolutional import Conv2D\n",
    "\n",
    "import exer3_dataset\n",
    "from keras.utils import np_utils\n",
    "import matplotlib.pyplot as plt\n",
    "import numpy as np\n",
    "\n",
    "np.random.seed(123)"
   ]
  },
  {
   "cell_type": "markdown",
   "metadata": {},
   "source": [
    "### Dataset\n",
    "\n",
    "A key part of machine learning is always handling and preprocessing the dataset.  In this exercise we've made your life easier by having already prepared a dataset and split it into training and testing parts. \n",
    "\n",
    "Run the following command to download the dataset.  The first time you run this it will take while as it's pulling the data down over the network."
   ]
  },
  {
   "cell_type": "code",
   "execution_count": 2,
   "metadata": {},
   "outputs": [],
   "source": [
    "(x_train, y_train), (x_test, y_test) = exer3_dataset.load_data()"
   ]
  },
  {
   "cell_type": "markdown",
   "metadata": {},
   "source": [
    "Let's see how the data is formatted by printing the dimensionalities of the variables (tensors)."
   ]
  },
  {
   "cell_type": "code",
   "execution_count": 3,
   "metadata": {},
   "outputs": [
    {
     "name": "stdout",
     "output_type": "stream",
     "text": [
      "x_train (60000, 28, 28, 1)\n",
      "y_train (60000,)\n",
      "x_test (10000, 28, 28, 1)\n",
      "y_test (10000,)\n"
     ]
    }
   ],
   "source": [
    "print(\"x_train\", x_train.shape)\n",
    "print(\"y_train\", y_train.shape)\n",
    "print(\"x_test\", x_test.shape)\n",
    "print(\"y_test\", y_test.shape)"
   ]
  },
  {
   "cell_type": "markdown",
   "metadata": {},
   "source": [
    "Above you can see we have 60000 samples of 28x28 images in `x_train`. The third dimension of the images is just 1 as there is just a single grayscale value. The test set is formatted in the same way, except we have just 10000 samples.\n",
    "\n",
    "The class labels are stored in `y_train`. Let's print the first 10 values just to see what they are..."
   ]
  },
  {
   "cell_type": "code",
   "execution_count": 4,
   "metadata": {},
   "outputs": [
    {
     "name": "stdout",
     "output_type": "stream",
     "text": [
      "[9 0 0 3 0 2 7 2 5 5]\n"
     ]
    }
   ],
   "source": [
    "print(y_train[:10])"
   ]
  },
  {
   "cell_type": "markdown",
   "metadata": {},
   "source": [
    "These are the correct classes for each image.  These actually refer to different types of clothing.  Let's define the mapping from class indices to human-understandable labels as a Python dictionary. We have 10 classes, i.e., 10 categories of images to classify."
   ]
  },
  {
   "cell_type": "code",
   "execution_count": 5,
   "metadata": {},
   "outputs": [],
   "source": [
    "num_classes = 10\n",
    "\n",
    "labels = {\n",
    "  0: 'T-shirt/top',\n",
    "  1: 'Trouser',\n",
    "  2: 'Pullover',\n",
    "  3: 'Dress',\n",
    "  4: 'Coat',\n",
    "  5: 'Sandal',\n",
    "  6: 'Shirt',\n",
    "  7: 'Sneaker',\n",
    "  8: 'Bag',\n",
    "  9: 'Ankle boot'\n",
    "}"
   ]
  },
  {
   "cell_type": "markdown",
   "metadata": {},
   "source": [
    "So, according to this the first image is of class 9, which is an \"Ankle boot\". Let's look at the first image."
   ]
  },
  {
   "cell_type": "code",
   "execution_count": 6,
   "metadata": {},
   "outputs": [
    {
     "name": "stdout",
     "output_type": "stream",
     "text": [
      "[[  0   0   0   0   0   0   0   0   0   0   0   0   0   0   0   0   0   0\n",
      "    0   0   0   0   0   0   0   0   0   0]\n",
      " [  0   0   0   0   0   0   0   0   0   0   0   0   0   0   0   0   0   0\n",
      "    0   0   0   0   0   0   0   0   0   0]\n",
      " [  0   0   0   0   0   0   0   0   0   0   0   0   0   0   0   0   0   0\n",
      "    0   0   0   0   0   0   0   0   0   0]\n",
      " [  0   0   0   0   0   0   0   0   0   0   0   0   1   0   0  13  73   0\n",
      "    0   1   4   0   0   0   0   1   1   0]\n",
      " [  0   0   0   0   0   0   0   0   0   0   0   0   3   0  36 136 127  62\n",
      "   54   0   0   0   1   3   4   0   0   3]\n",
      " [  0   0   0   0   0   0   0   0   0   0   0   0   6   0 102 204 176 134\n",
      "  144 123  23   0   0   0   0  12  10   0]\n",
      " [  0   0   0   0   0   0   0   0   0   0   0   0   0   0 155 236 207 178\n",
      "  107 156 161 109  64  23  77 130  72  15]\n",
      " [  0   0   0   0   0   0   0   0   0   0   0   1   0  69 207 223 218 216\n",
      "  216 163 127 121 122 146 141  88 172  66]\n",
      " [  0   0   0   0   0   0   0   0   0   1   1   1   0 200 232 232 233 229\n",
      "  223 223 215 213 164 127 123 196 229   0]\n",
      " [  0   0   0   0   0   0   0   0   0   0   0   0   0 183 225 216 223 228\n",
      "  235 227 224 222 224 221 223 245 173   0]\n",
      " [  0   0   0   0   0   0   0   0   0   0   0   0   0 193 228 218 213 198\n",
      "  180 212 210 211 213 223 220 243 202   0]\n",
      " [  0   0   0   0   0   0   0   0   0   1   3   0  12 219 220 212 218 192\n",
      "  169 227 208 218 224 212 226 197 209  52]\n",
      " [  0   0   0   0   0   0   0   0   0   0   6   0  99 244 222 220 218 203\n",
      "  198 221 215 213 222 220 245 119 167  56]\n",
      " [  0   0   0   0   0   0   0   0   0   4   0   0  55 236 228 230 228 240\n",
      "  232 213 218 223 234 217 217 209  92   0]\n",
      " [  0   0   1   4   6   7   2   0   0   0   0   0 237 226 217 223 222 219\n",
      "  222 221 216 223 229 215 218 255  77   0]\n",
      " [  0   3   0   0   0   0   0   0   0  62 145 204 228 207 213 221 218 208\n",
      "  211 218 224 223 219 215 224 244 159   0]\n",
      " [  0   0   0   0  18  44  82 107 189 228 220 222 217 226 200 205 211 230\n",
      "  224 234 176 188 250 248 233 238 215   0]\n",
      " [  0  57 187 208 224 221 224 208 204 214 208 209 200 159 245 193 206 223\n",
      "  255 255 221 234 221 211 220 232 246   0]\n",
      " [  3 202 228 224 221 211 211 214 205 205 205 220 240  80 150 255 229 221\n",
      "  188 154 191 210 204 209 222 228 225   0]\n",
      " [ 98 233 198 210 222 229 229 234 249 220 194 215 217 241  65  73 106 117\n",
      "  168 219 221 215 217 223 223 224 229  29]\n",
      " [ 75 204 212 204 193 205 211 225 216 185 197 206 198 213 240 195 227 245\n",
      "  239 223 218 212 209 222 220 221 230  67]\n",
      " [ 48 203 183 194 213 197 185 190 194 192 202 214 219 221 220 236 225 216\n",
      "  199 206 186 181 177 172 181 205 206 115]\n",
      " [  0 122 219 193 179 171 183 196 204 210 213 207 211 210 200 196 194 191\n",
      "  195 191 198 192 176 156 167 177 210  92]\n",
      " [  0   0  74 189 212 191 175 172 175 181 185 188 189 188 193 198 204 209\n",
      "  210 210 211 188 188 194 192 216 170   0]\n",
      " [  2   0   0   0  66 200 222 237 239 242 246 243 244 221 220 193 191 179\n",
      "  182 182 181 176 166 168  99  58   0   0]\n",
      " [  0   0   0   0   0   0   0  40  61  44  72  41  35   0   0   0   0   0\n",
      "    0   0   0   0   0   0   0   0   0   0]\n",
      " [  0   0   0   0   0   0   0   0   0   0   0   0   0   0   0   0   0   0\n",
      "    0   0   0   0   0   0   0   0   0   0]\n",
      " [  0   0   0   0   0   0   0   0   0   0   0   0   0   0   0   0   0   0\n",
      "    0   0   0   0   0   0   0   0   0   0]]\n"
     ]
    }
   ],
   "source": [
    "img0=x_train[0,:,:].reshape(28,28)\n",
    "print(img0)"
   ]
  },
  {
   "cell_type": "markdown",
   "metadata": {},
   "source": [
    "That's pretty hard to decipher. Let's instead draw it as an image, interpreting each number as a grayscale value."
   ]
  },
  {
   "cell_type": "code",
   "execution_count": 7,
   "metadata": {},
   "outputs": [
    {
     "data": {
      "text/plain": [
       "<matplotlib.image.AxesImage at 0x7efd88556518>"
      ]
     },
     "execution_count": 7,
     "metadata": {},
     "output_type": "execute_result"
    },
    {
     "data": {
      "image/png": "[encoded data removed]",
      "text/plain": [
       "<matplotlib.figure.Figure at 0x7efd8ba1c2e8>"
      ]
     },
     "metadata": {},
     "output_type": "display_data"
    }
   ],
   "source": [
    "plt.imshow(img0, cmap='Greys', interpolation='none')"
   ]
  },
  {
   "cell_type": "markdown",
   "metadata": {},
   "source": [
    "I suppose that's an ankle boot...\n",
    "\n",
    "Typically we use so called one-hot encoding for the class labels in neural networks.  That is instead of having a single value which can have one of 10 label values (e.g. 0, ..., 9), we have 10 values which can each be 1 or 0 depending on if that class is present. \n",
    "\n",
    "Then for the output we typically expect something that looks like a probability distribution over these 10 classes, i.e., each neuron has a value between 0 and 1 indicating the probability of that class being present. For example if the tenth (last) neuron is 0.8, then we have 80% probability of the image containing an ankle boot. (The sum over all classes should also be 1.0 in order for it be a probability distribution.)\n",
    "\n",
    "Here we'll call a utility function to transform the class labels into a one-hot encoding format."
   ]
  },
  {
   "cell_type": "code",
   "execution_count": 8,
   "metadata": {},
   "outputs": [
    {
     "name": "stdout",
     "output_type": "stream",
     "text": [
      "Old format [9 0 0 3 0]\n",
      "One-hot encoding\n",
      " [[ 0.  0.  0.  0.  0.  0.  0.  0.  0.  1.]\n",
      " [ 1.  0.  0.  0.  0.  0.  0.  0.  0.  0.]\n",
      " [ 1.  0.  0.  0.  0.  0.  0.  0.  0.  0.]\n",
      " [ 0.  0.  0.  1.  0.  0.  0.  0.  0.  0.]\n",
      " [ 1.  0.  0.  0.  0.  0.  0.  0.  0.  0.]]\n"
     ]
    }
   ],
   "source": [
    "print(\"Old format\", y_train[:5])\n",
    "y_train_cat = np_utils.to_categorical(y_train, num_classes)\n",
    "y_test_cat = np_utils.to_categorical(y_test, num_classes)\n",
    "print(\"One-hot encoding\\n\", y_train_cat[:5,])"
   ]
  },
  {
   "cell_type": "markdown",
   "metadata": {},
   "source": [
    "You can take a look at the output above. For example for the first image, which has label 9, the tenth value is 1, the rest are zero.\n",
    "\n",
    "Let's display the first example image of each class just for fun."
   ]
  },
  {
   "cell_type": "code",
   "execution_count": 9,
   "metadata": {},
   "outputs": [
    {
     "data": {
      "image/png": "[encoded data removed]",
      "text/plain": [
       "<matplotlib.figure.Figure at 0x7efd88564b00>"
      ]
     },
     "metadata": {},
     "output_type": "display_data"
    }
   ],
   "source": [
    "for l in range(10):\n",
    "    idx = np.argwhere(y_train==l)[0]\n",
    "  \n",
    "    plt.subplot(2, 5, l+1)\n",
    "\n",
    "    img = x_train[idx,:,:].reshape(28,28)\n",
    "\n",
    "    plt.imshow(img, cmap='Greys', interpolation='none')\n",
    "    plt.title(labels[l])\n",
    "    plt.axis('off')"
   ]
  },
  {
   "cell_type": "markdown",
   "metadata": {},
   "source": [
    "Finally, we normalize the images to be in the range 0.0 to 1.0 instead of 0 to 255."
   ]
  },
  {
   "cell_type": "code",
   "execution_count": 10,
   "metadata": {},
   "outputs": [],
   "source": [
    "x_train = x_train/255\n",
    "x_test = x_test/255"
   ]
  },
  {
   "cell_type": "markdown",
   "metadata": {},
   "source": [
    "### Create the network\n",
    "\n",
    "OK, let's create a simple CNN that learns to detect these classes. \n",
    "\n",
    "<span style=\"background-color: yellow\">Below you need to fill in the neural network layers</span>, which are (in order):\n",
    "\n",
    "- One 2D convolutional layer with kernel size 3x3 and 32 output filters/features\n",
    "\n",
    "- ReLU activation\n",
    "\n",
    "- Max pooling (2D) of size 2x2\n",
    "\n",
    "- Fully-connected (dense) layer to 10 output units (for the 10 classes)\n",
    "\n",
    "- Finally softmax activation to get a probability-like output.\n",
    "\n",
    "**Hint:** For the first layer you'll need to specify the shape of the input tensor manually by giving this parameter: `input_shape=(28, 28, 1)`.\n",
    "\n",
    "Before the dense layer we need a `Flatten()` layer. This is a special layer in Keras that transforms the 2D output into 1D. The 2D convolution works with neurons in 2D, but the dense layer works in 1D."
   ]
  },
  {
   "cell_type": "code",
   "execution_count": 11,
   "metadata": {},
   "outputs": [
    {
     "name": "stdout",
     "output_type": "stream",
     "text": [
      "_________________________________________________________________\n",
      "Layer (type)                 Output Shape              Param #   \n",
      "=================================================================\n",
      "conv2d_1 (Conv2D)            (None, 26, 26, 32)        320       \n",
      "_________________________________________________________________\n",
      "activation_1 (Activation)    (None, 26, 26, 32)        0         \n",
      "_________________________________________________________________\n",
      "max_pooling2d_1 (MaxPooling2 (None, 13, 13, 32)        0         \n",
      "_________________________________________________________________\n",
      "flatten_1 (Flatten)          (None, 5408)              0         \n",
      "_________________________________________________________________\n",
      "dense_1 (Dense)              (None, 10)                54090     \n",
      "_________________________________________________________________\n",
      "activation_2 (Activation)    (None, 10)                0         \n",
      "=================================================================\n",
      "Total params: 54,410\n",
      "Trainable params: 54,410\n",
      "Non-trainable params: 0\n",
      "_________________________________________________________________\n",
      "None\n"
     ]
    }
   ],
   "source": [
    "# Initialize model\n",
    "model = Sequential()\n",
    "\n",
    "# Add layers here\n",
    "model.add(Conv2D(filters=32, kernel_size=(3, 3), input_shape=(28, 28, 1)))\n",
    "model.add(Activation(\"relu\"))\n",
    "model.add(MaxPooling2D((2,2)))\n",
    "model.add(Flatten())\n",
    "model.add(Dense(units=10))\n",
    "model.add(Activation(\"softmax\"))\n",
    "# Let's use categorical crossentry and sgd optmizer\n",
    "model.compile(loss='categorical_crossentropy', \n",
    "              optimizer='sgd', \n",
    "              metrics=['accuracy'])\n",
    "print(model.summary())"
   ]
  },
  {
   "cell_type": "markdown",
   "metadata": {},
   "source": [
    "### Training\n",
    "\n",
    "Now let's train it for 10 epochs. This takes roughly 5 minutes on a CPU.\n",
    "\n",
    "We use a batch size of 128, which means that the weight updates are calculated for 128 inputs at a time."
   ]
  },
  {
   "cell_type": "code",
   "execution_count": 12,
   "metadata": {},
   "outputs": [
    {
     "name": "stdout",
     "output_type": "stream",
     "text": [
      "Epoch 1/10\n",
      "60000/60000 [==============================] - 12s - loss: 1.0384 - acc: 0.6646    \n",
      "Epoch 2/10\n",
      "60000/60000 [==============================] - 12s - loss: 0.6088 - acc: 0.7872    \n",
      "Epoch 3/10\n",
      "60000/60000 [==============================] - 12s - loss: 0.5487 - acc: 0.8053    \n",
      "Epoch 4/10\n",
      "60000/60000 [==============================] - 12s - loss: 0.5243 - acc: 0.8132    \n",
      "Epoch 5/10\n",
      "60000/60000 [==============================] - 12s - loss: 0.5017 - acc: 0.8233    \n",
      "Epoch 6/10\n",
      "60000/60000 [==============================] - 12s - loss: 0.4884 - acc: 0.8277    \n",
      "Epoch 7/10\n",
      "60000/60000 [==============================] - 13s - loss: 0.4762 - acc: 0.8321    \n",
      "Epoch 8/10\n",
      "60000/60000 [==============================] - 12s - loss: 0.4634 - acc: 0.8374    \n",
      "Epoch 9/10\n",
      "60000/60000 [==============================] - 12s - loss: 0.4556 - acc: 0.8389    \n",
      "Epoch 10/10\n",
      "60000/60000 [==============================] - 13s - loss: 0.4486 - acc: 0.8438    \n",
      "CPU times: user 5min 55s, sys: 1min 21s, total: 7min 16s\n",
      "Wall time: 2min 6s\n"
     ]
    }
   ],
   "source": [
    "%%time\n",
    "\n",
    "epochs = 10 # one epoch typically takes a minute or two\n",
    "\n",
    "history = model.fit(x_train, \n",
    "                    y_train_cat, \n",
    "                    epochs=epochs, \n",
    "                    batch_size=128,\n",
    "                    verbose=1)"
   ]
  },
  {
   "cell_type": "markdown",
   "metadata": {},
   "source": [
    "Let's plot how the loss and accuracy have changed over the training time."
   ]
  },
  {
   "cell_type": "code",
   "execution_count": 13,
   "metadata": {},
   "outputs": [
    {
     "data": {
      "text/plain": [
       "<matplotlib.text.Text at 0x7efd884b5f98>"
      ]
     },
     "execution_count": 13,
     "metadata": {},
     "output_type": "execute_result"
    },
    {
     "data": {
      "image/png": "[encoded data removed]",
      "text/plain": [
       "<matplotlib.figure.Figure at 0x7efd84572278>"
      ]
     },
     "metadata": {},
     "output_type": "display_data"
    },
    {
     "data": {
      "image/png": "[encoded data removed]",
      "text/plain": [
       "<matplotlib.figure.Figure at 0x7efd84586d30>"
      ]
     },
     "metadata": {},
     "output_type": "display_data"
    }
   ],
   "source": [
    "plt.figure(figsize=(5,3))\n",
    "plt.plot(history.epoch,history.history['loss'])\n",
    "plt.title('loss')\n",
    "\n",
    "plt.figure(figsize=(5,3))\n",
    "plt.plot(history.epoch,history.history['acc'])\n",
    "plt.title('accuracy')\n"
   ]
  },
  {
   "cell_type": "markdown",
   "metadata": {},
   "source": [
    "### Inference\n",
    "\n",
    "Next, let's how well the model can generalize to data it hasn't seen before, i.e., the test data. Recall from your basic machine learning that this is really the crucial part: it's trivial to learn to perfectly model the training set (you can just memorize each example), the hard part is to learn something general about the classes. So let's try to predict the labels of the test dataset, and compare to the correct labels."
   ]
  },
  {
   "cell_type": "code",
   "execution_count": 14,
   "metadata": {
    "scrolled": true
   },
   "outputs": [
    {
     "name": "stdout",
     "output_type": "stream",
     "text": [
      "acc: 83.70%\n"
     ]
    }
   ],
   "source": [
    "scores = model.evaluate(x_test, y_test_cat, verbose=2)\n",
    "print(\"%s: %.2f%%\" % (model.metrics_names[1], scores[1]*100))"
   ]
  },
  {
   "cell_type": "markdown",
   "metadata": {},
   "source": [
    "You should get roughly 84% above if you have done exactly the same steps.  The real result can vary a lot on the random initialisation as we run only 10 epochs here."
   ]
  },
  {
   "cell_type": "markdown",
   "metadata": {},
   "source": [
    "### Visualise the weights\n",
    "\n",
    "An interesting thing is to visualise the learned weights for the convolutional layer.  We have 32 kernels of size 3x3, we can just plot them as images, mapping the weight values to grayscale."
   ]
  },
  {
   "cell_type": "code",
   "execution_count": 15,
   "metadata": {},
   "outputs": [
    {
     "data": {
      "image/png": "[encoded data removed]",
      "text/plain": [
       "<matplotlib.figure.Figure at 0x7efd8851c748>"
      ]
     },
     "metadata": {},
     "output_type": "display_data"
    }
   ],
   "source": [
    "# Weights for the first convolutional layer\n",
    "w0=model.get_weights()[0][:,:,0,:]\n",
    "\n",
    "# Normalize to range 0.0 - 1.0\n",
    "w0-=np.min(w0)\n",
    "w0/=np.max(w0)\n",
    "\n",
    "for r in range(4):\n",
    "    for c in range(8):\n",
    "        n=r*8+c\n",
    "        plt.subplot(4, 8, n+1)\n",
    "        plt.imshow(w0[:,:,n], interpolation='none')\n",
    "        plt.axis('off')\n",
    "        plt.gray()\n",
    "plt.show()"
   ]
  },
  {
   "cell_type": "markdown",
   "metadata": {},
   "source": [
    "They might be a bit hard to interpret, but it seems they have learned to detect various corners and edges."
   ]
  },
  {
   "cell_type": "markdown",
   "metadata": {},
   "source": [
    "## Exercise 3.2. Make a better CNN (4 points)\n",
    "\n",
    "Make a network that performs better than the very simple one above. For your convenience we have copied the essential code from the previous exercise to the cells below. If you just did the previous exercise you don't need to rerun the first cell.\n",
    "\n",
    "<span style=\"background-color: yellow\">Your task is to do at least five (5) reparameterizations for the previous exercise's network and compare the results. At least one of them should have a 5% improvement in the test set result (generalization). Each reparameterization should change a different aspect in the network, while the rest of the parameters are the same as in 3.1. Print out all of the plots and results for each setup into the notebook you return, and analyze and discuss the results briefly in the last cell in the bottom.</span>\n",
    "\n",
    "You probably need to make a few more cells below, and copy-paste the model code (at least five times).\n",
    "\n",
    "Example parameters to try to change: \n",
    "\n",
    "- number of layers or neurons\n",
    "- activation functions\n",
    "- epochs\n",
    "- batch sizes\n",
    "- optimizer, see [Keras' documentation on optimizers](https://keras.io/optimizers/)\n",
    "- max-pooling on/off on certain layers\n",
    "\n",
    "Notice that changing the final layer's softmax activation plus the categorical_crossentropy loss requires some consideration. Don't do it unless you have a good plan."
   ]
  },
  {
   "cell_type": "code",
   "execution_count": 16,
   "metadata": {},
   "outputs": [],
   "source": [
    "%matplotlib inline\n",
    "\n",
    "from keras.models import Sequential\n",
    "from keras.layers import *\n",
    "from keras.optimizers import *\n",
    "from keras.layers.convolutional import Conv2D\n",
    "\n",
    "import exer3_dataset\n",
    "from keras.utils import np_utils\n",
    "import matplotlib.pyplot as plt\n",
    "\n",
    "# Load the dataset\n",
    "(x_train, y_train), (x_test, y_test) = exer3_dataset.load_data()\n",
    "\n",
    "# Normalize\n",
    "x_train = x_train/255\n",
    "x_test = x_test/255\n",
    "\n",
    "num_classes = 10\n",
    "\n",
    "y_train_cat = np_utils.to_categorical(y_train, num_classes)\n",
    "y_test_cat = np_utils.to_categorical(y_test, num_classes)"
   ]
  },
  {
   "cell_type": "markdown",
   "metadata": {},
   "source": [
    "### Variant 1\n",
    "Change the number of layers and neurons"
   ]
  },
  {
   "cell_type": "code",
   "execution_count": 17,
   "metadata": {},
   "outputs": [
    {
     "name": "stdout",
     "output_type": "stream",
     "text": [
      "_________________________________________________________________\n",
      "Layer (type)                 Output Shape              Param #   \n",
      "=================================================================\n",
      "conv2d_2 (Conv2D)            (None, 26, 26, 32)        320       \n",
      "_________________________________________________________________\n",
      "activation_3 (Activation)    (None, 26, 26, 32)        0         \n",
      "_________________________________________________________________\n",
      "max_pooling2d_2 (MaxPooling2 (None, 13, 13, 32)        0         \n",
      "_________________________________________________________________\n",
      "conv2d_3 (Conv2D)            (None, 11, 11, 64)        18496     \n",
      "_________________________________________________________________\n",
      "flatten_2 (Flatten)          (None, 7744)              0         \n",
      "_________________________________________________________________\n",
      "dense_2 (Dense)              (None, 256)               1982720   \n",
      "_________________________________________________________________\n",
      "dense_3 (Dense)              (None, 64)                16448     \n",
      "_________________________________________________________________\n",
      "dense_4 (Dense)              (None, 10)                650       \n",
      "_________________________________________________________________\n",
      "activation_4 (Activation)    (None, 10)                0         \n",
      "=================================================================\n",
      "Total params: 2,018,634\n",
      "Trainable params: 2,018,634\n",
      "Non-trainable params: 0\n",
      "_________________________________________________________________\n",
      "None\n"
     ]
    }
   ],
   "source": [
    "np.random.seed(123)\n",
    "model = Sequential()\n",
    "\n",
    "# Add model here\n",
    "model.add(Conv2D(32, (3, 3), input_shape=(28, 28, 1)))\n",
    "model.add(Activation(\"relu\"))\n",
    "model.add(MaxPooling2D((2,2)))\n",
    "model.add(Conv2D(64, (3, 3)))\n",
    "model.add(Flatten())\n",
    "model.add(Dense(256)) #new layer\n",
    "model.add(Dense(64)) #new layer\n",
    "model.add(Dense(10))\n",
    "model.add(Activation(\"softmax\"))\n",
    "\n",
    "# You can also try different optimizers below\n",
    "model.compile(loss='categorical_crossentropy', \n",
    "              optimizer='sgd', \n",
    "              metrics=['accuracy'])\n",
    "print(model.summary())"
   ]
  },
  {
   "cell_type": "code",
   "execution_count": 18,
   "metadata": {},
   "outputs": [
    {
     "name": "stdout",
     "output_type": "stream",
     "text": [
      "Epoch 1/10\n",
      "60000/60000 [==============================] - 35s - loss: 0.8349 - acc: 0.7073    \n",
      "Epoch 2/10\n",
      "60000/60000 [==============================] - 44s - loss: 0.5427 - acc: 0.8026    \n",
      "Epoch 3/10\n",
      "60000/60000 [==============================] - 46s - loss: 0.4831 - acc: 0.8284    \n",
      "Epoch 4/10\n",
      "60000/60000 [==============================] - 55s - loss: 0.4469 - acc: 0.8434    \n",
      "Epoch 5/10\n",
      "60000/60000 [==============================] - 59s - loss: 0.4245 - acc: 0.8505    \n",
      "Epoch 6/10\n",
      "60000/60000 [==============================] - 62s - loss: 0.4047 - acc: 0.8578    \n",
      "Epoch 7/10\n",
      "60000/60000 [==============================] - 60s - loss: 0.3897 - acc: 0.8636    \n",
      "Epoch 8/10\n",
      "60000/60000 [==============================] - 49s - loss: 0.3767 - acc: 0.8689    \n",
      "Epoch 9/10\n",
      "60000/60000 [==============================] - 46s - loss: 0.3662 - acc: 0.8728    - ETA: \n",
      "Epoch 10/10\n",
      "60000/60000 [==============================] - 53s - loss: 0.3575 - acc: 0.8756    \n",
      "CPU times: user 22min 45s, sys: 2min 50s, total: 25min 35s\n",
      "Wall time: 8min 34s\n"
     ]
    }
   ],
   "source": [
    "%%time\n",
    "\n",
    "# Training\n",
    "epochs = 10\n",
    "\n",
    "history = model.fit(x_train, \n",
    "                    y_train_cat, \n",
    "                    epochs=epochs, \n",
    "                    batch_size=128,\n",
    "                    verbose=1)"
   ]
  },
  {
   "cell_type": "code",
   "execution_count": 19,
   "metadata": {},
   "outputs": [
    {
     "data": {
      "text/plain": [
       "<matplotlib.text.Text at 0x7efd848fce10>"
      ]
     },
     "execution_count": 19,
     "metadata": {},
     "output_type": "execute_result"
    },
    {
     "data": {
      "image/png": "[encoded data removed]",
      "text/plain": [
       "<matplotlib.figure.Figure at 0x7efd848e7e48>"
      ]
     },
     "metadata": {},
     "output_type": "display_data"
    },
    {
     "data": {
      "image/png": "[encoded data removed]",
      "text/plain": [
       "<matplotlib.figure.Figure at 0x7efd848600b8>"
      ]
     },
     "metadata": {},
     "output_type": "display_data"
    }
   ],
   "source": [
    "# Plot loss and accuracy in training\n",
    "\n",
    "plt.figure(figsize=(5,3))\n",
    "plt.plot(history.epoch,history.history['loss'])\n",
    "plt.title('loss')\n",
    "\n",
    "plt.figure(figsize=(5,3))\n",
    "plt.plot(history.epoch,history.history['acc'])\n",
    "plt.title('accuracy')"
   ]
  },
  {
   "cell_type": "code",
   "execution_count": 20,
   "metadata": {},
   "outputs": [
    {
     "name": "stdout",
     "output_type": "stream",
     "text": [
      "acc: 86.96%\n"
     ]
    }
   ],
   "source": [
    "# Evaluate on test set\n",
    "scores = model.evaluate(x_test, y_test_cat, verbose=2)\n",
    "print(\"%s: %.2f%%\" % (model.metrics_names[1], scores[1]*100))"
   ]
  },
  {
   "cell_type": "markdown",
   "metadata": {},
   "source": [
    "### Variant 2\n",
    "\n",
    "Change the activation function "
   ]
  },
  {
   "cell_type": "code",
   "execution_count": 21,
   "metadata": {},
   "outputs": [
    {
     "name": "stdout",
     "output_type": "stream",
     "text": [
      "_________________________________________________________________\n",
      "Layer (type)                 Output Shape              Param #   \n",
      "=================================================================\n",
      "conv2d_4 (Conv2D)            (None, 26, 26, 32)        320       \n",
      "_________________________________________________________________\n",
      "activation_5 (Activation)    (None, 26, 26, 32)        0         \n",
      "_________________________________________________________________\n",
      "max_pooling2d_3 (MaxPooling2 (None, 13, 13, 32)        0         \n",
      "_________________________________________________________________\n",
      "flatten_3 (Flatten)          (None, 5408)              0         \n",
      "_________________________________________________________________\n",
      "dense_5 (Dense)              (None, 10)                54090     \n",
      "_________________________________________________________________\n",
      "activation_6 (Activation)    (None, 10)                0         \n",
      "=================================================================\n",
      "Total params: 54,410\n",
      "Trainable params: 54,410\n",
      "Non-trainable params: 0\n",
      "_________________________________________________________________\n",
      "None\n"
     ]
    }
   ],
   "source": [
    "np.random.seed(123)\n",
    "model = Sequential()\n",
    "\n",
    "# Add model here\n",
    "model.add(Conv2D(32, (3, 3), input_shape=(28, 28, 1)))\n",
    "model.add(Activation(\"tanh\")) #replace relu with sigmoid\n",
    "model.add(MaxPooling2D((2,2)))\n",
    "model.add(Flatten())\n",
    "model.add(Dense(10))\n",
    "model.add(Activation(\"softmax\"))\n",
    "\n",
    "# You can also try different optimizers below\n",
    "model.compile(loss='categorical_crossentropy', \n",
    "              optimizer='sgd', \n",
    "              metrics=['accuracy'])\n",
    "print(model.summary())"
   ]
  },
  {
   "cell_type": "code",
   "execution_count": 22,
   "metadata": {},
   "outputs": [
    {
     "name": "stdout",
     "output_type": "stream",
     "text": [
      "Epoch 1/10\n",
      "60000/60000 [==============================] - 14s - loss: 1.0092 - acc: 0.6904    \n",
      "Epoch 2/10\n",
      "60000/60000 [==============================] - 20s - loss: 0.5962 - acc: 0.7933    \n",
      "Epoch 3/10\n",
      "60000/60000 [==============================] - 19s - loss: 0.5327 - acc: 0.8129    \n",
      "Epoch 4/10\n",
      "60000/60000 [==============================] - 15s - loss: 0.4995 - acc: 0.8246    \n",
      "Epoch 5/10\n",
      "60000/60000 [==============================] - 17s - loss: 0.4762 - acc: 0.8334    \n",
      "Epoch 6/10\n",
      "60000/60000 [==============================] - 14s - loss: 0.4597 - acc: 0.8397    \n",
      "Epoch 7/10\n",
      "60000/60000 [==============================] - 18s - loss: 0.4468 - acc: 0.8444    \n",
      "Epoch 8/10\n",
      "60000/60000 [==============================] - 15s - loss: 0.4352 - acc: 0.8477    -\n",
      "Epoch 9/10\n",
      "60000/60000 [==============================] - 17s - loss: 0.4264 - acc: 0.8507    \n",
      "Epoch 10/10\n",
      "60000/60000 [==============================] - 18s - loss: 0.4189 - acc: 0.8536    \n",
      "CPU times: user 5min 46s, sys: 1min 7s, total: 6min 53s\n",
      "Wall time: 2min 52s\n"
     ]
    }
   ],
   "source": [
    "%%time\n",
    "\n",
    "# Training\n",
    "epochs = 10\n",
    "\n",
    "history = model.fit(x_train, \n",
    "                    y_train_cat, \n",
    "                    epochs=epochs, \n",
    "                    batch_size=128,\n",
    "                    verbose=1)"
   ]
  },
  {
   "cell_type": "code",
   "execution_count": 23,
   "metadata": {},
   "outputs": [
    {
     "data": {
      "text/plain": [
       "<matplotlib.text.Text at 0x7efd02487080>"
      ]
     },
     "execution_count": 23,
     "metadata": {},
     "output_type": "execute_result"
    },
    {
     "data": {
      "image/png": "[encoded data removed]",
      "text/plain": [
       "<matplotlib.figure.Figure at 0x7efd02544b38>"
      ]
     },
     "metadata": {},
     "output_type": "display_data"
    },
    {
     "data": {
      "image/png": "[encoded data removed]",
      "text/plain": [
       "<matplotlib.figure.Figure at 0x7efd024c9080>"
      ]
     },
     "metadata": {},
     "output_type": "display_data"
    }
   ],
   "source": [
    "# Plot loss and accuracy in training\n",
    "\n",
    "plt.figure(figsize=(5,3))\n",
    "plt.plot(history.epoch,history.history['loss'])\n",
    "plt.title('loss')\n",
    "\n",
    "plt.figure(figsize=(5,3))\n",
    "plt.plot(history.epoch,history.history['acc'])\n",
    "plt.title('accuracy')"
   ]
  },
  {
   "cell_type": "code",
   "execution_count": 24,
   "metadata": {},
   "outputs": [
    {
     "name": "stdout",
     "output_type": "stream",
     "text": [
      "acc: 84.52%\n"
     ]
    }
   ],
   "source": [
    "# Evaluate on test set\n",
    "scores = model.evaluate(x_test, y_test_cat, verbose=2)\n",
    "print(\"%s: %.2f%%\" % (model.metrics_names[1], scores[1]*100))"
   ]
  },
  {
   "cell_type": "markdown",
   "metadata": {},
   "source": [
    "### Variant 3\n",
    "Change the number of epoch"
   ]
  },
  {
   "cell_type": "code",
   "execution_count": 25,
   "metadata": {},
   "outputs": [
    {
     "name": "stdout",
     "output_type": "stream",
     "text": [
      "_________________________________________________________________\n",
      "Layer (type)                 Output Shape              Param #   \n",
      "=================================================================\n",
      "conv2d_5 (Conv2D)            (None, 26, 26, 32)        320       \n",
      "_________________________________________________________________\n",
      "activation_7 (Activation)    (None, 26, 26, 32)        0         \n",
      "_________________________________________________________________\n",
      "max_pooling2d_4 (MaxPooling2 (None, 13, 13, 32)        0         \n",
      "_________________________________________________________________\n",
      "flatten_4 (Flatten)          (None, 5408)              0         \n",
      "_________________________________________________________________\n",
      "dense_6 (Dense)              (None, 10)                54090     \n",
      "_________________________________________________________________\n",
      "activation_8 (Activation)    (None, 10)                0         \n",
      "=================================================================\n",
      "Total params: 54,410\n",
      "Trainable params: 54,410\n",
      "Non-trainable params: 0\n",
      "_________________________________________________________________\n",
      "None\n"
     ]
    }
   ],
   "source": [
    "np.random.seed(123)\n",
    "model = Sequential()\n",
    "\n",
    "# Add model here\n",
    "model.add(Conv2D(32, (3, 3), input_shape=(28, 28, 1)))\n",
    "model.add(Activation(\"relu\"))\n",
    "model.add(MaxPooling2D((2,2)))\n",
    "model.add(Flatten())\n",
    "model.add(Dense(10))\n",
    "model.add(Activation(\"softmax\"))\n",
    "\n",
    "# You can also try different optimizers below\n",
    "model.compile(loss='categorical_crossentropy', \n",
    "              optimizer='sgd', \n",
    "              metrics=['accuracy'])\n",
    "print(model.summary())"
   ]
  },
  {
   "cell_type": "code",
   "execution_count": 26,
   "metadata": {},
   "outputs": [
    {
     "name": "stdout",
     "output_type": "stream",
     "text": [
      "Epoch 1/40\n",
      "60000/60000 [==============================] - 17s - loss: 1.0394 - acc: 0.6643    \n",
      "Epoch 2/40\n",
      "60000/60000 [==============================] - 14s - loss: 0.6091 - acc: 0.7872    \n",
      "Epoch 3/40\n",
      "60000/60000 [==============================] - 19s - loss: 0.5488 - acc: 0.8054    \n",
      "Epoch 4/40\n",
      "60000/60000 [==============================] - 16s - loss: 0.5241 - acc: 0.8133    \n",
      "Epoch 5/40\n",
      "60000/60000 [==============================] - 16s - loss: 0.5014 - acc: 0.8234    \n",
      "Epoch 6/40\n",
      "60000/60000 [==============================] - 18s - loss: 0.4879 - acc: 0.8278    \n",
      "Epoch 7/40\n",
      "60000/60000 [==============================] - 20s - loss: 0.4755 - acc: 0.8326    \n",
      "Epoch 8/40\n",
      "60000/60000 [==============================] - 19s - loss: 0.4625 - acc: 0.8381    \n",
      "Epoch 9/40\n",
      "60000/60000 [==============================] - 18s - loss: 0.4545 - acc: 0.8397    \n",
      "Epoch 10/40\n",
      "60000/60000 [==============================] - 16s - loss: 0.4471 - acc: 0.8441    \n",
      "Epoch 11/40\n",
      "60000/60000 [==============================] - 15s - loss: 0.4388 - acc: 0.8475    \n",
      "Epoch 12/40\n",
      "60000/60000 [==============================] - 16s - loss: 0.4323 - acc: 0.8486    \n",
      "Epoch 13/40\n",
      "60000/60000 [==============================] - 16s - loss: 0.4264 - acc: 0.8512    \n",
      "Epoch 14/40\n",
      "60000/60000 [==============================] - 15s - loss: 0.4218 - acc: 0.8530    \n",
      "Epoch 15/40\n",
      "60000/60000 [==============================] - 16s - loss: 0.4131 - acc: 0.8556    \n",
      "Epoch 16/40\n",
      "60000/60000 [==============================] - 15s - loss: 0.4088 - acc: 0.8579    \n",
      "Epoch 17/40\n",
      "60000/60000 [==============================] - 12s - loss: 0.4036 - acc: 0.8586    \n",
      "Epoch 18/40\n",
      "60000/60000 [==============================] - 12s - loss: 0.3986 - acc: 0.8616    \n",
      "Epoch 19/40\n",
      "60000/60000 [==============================] - 13s - loss: 0.3942 - acc: 0.8628    \n",
      "Epoch 20/40\n",
      "60000/60000 [==============================] - 16s - loss: 0.3898 - acc: 0.8645    \n",
      "Epoch 21/40\n",
      "60000/60000 [==============================] - 16s - loss: 0.3847 - acc: 0.8663    \n",
      "Epoch 22/40\n",
      "60000/60000 [==============================] - 16s - loss: 0.3798 - acc: 0.8683    \n",
      "Epoch 23/40\n",
      "60000/60000 [==============================] - 16s - loss: 0.3758 - acc: 0.8707    \n",
      "Epoch 24/40\n",
      "60000/60000 [==============================] - 15s - loss: 0.3734 - acc: 0.8703    \n",
      "Epoch 25/40\n",
      "60000/60000 [==============================] - 13s - loss: 0.3690 - acc: 0.8727    \n",
      "Epoch 26/40\n",
      "60000/60000 [==============================] - 12s - loss: 0.3666 - acc: 0.8729    \n",
      "Epoch 27/40\n",
      "60000/60000 [==============================] - 12s - loss: 0.3622 - acc: 0.8742    \n",
      "Epoch 28/40\n",
      "60000/60000 [==============================] - 12s - loss: 0.3604 - acc: 0.8752    \n",
      "Epoch 29/40\n",
      "60000/60000 [==============================] - 11s - loss: 0.3570 - acc: 0.8765    \n",
      "Epoch 30/40\n",
      "60000/60000 [==============================] - 13s - loss: 0.3547 - acc: 0.8776    \n",
      "Epoch 31/40\n",
      "60000/60000 [==============================] - 13s - loss: 0.3528 - acc: 0.8776    \n",
      "Epoch 32/40\n",
      "60000/60000 [==============================] - 13s - loss: 0.3501 - acc: 0.8790    \n",
      "Epoch 33/40\n",
      "60000/60000 [==============================] - 13s - loss: 0.3465 - acc: 0.8808    \n",
      "Epoch 34/40\n",
      "60000/60000 [==============================] - 11s - loss: 0.3457 - acc: 0.8796    \n",
      "Epoch 35/40\n",
      "60000/60000 [==============================] - 11s - loss: 0.3424 - acc: 0.8813    \n",
      "Epoch 36/40\n",
      "60000/60000 [==============================] - 11s - loss: 0.3396 - acc: 0.8827    \n",
      "Epoch 37/40\n",
      "60000/60000 [==============================] - 12s - loss: 0.3380 - acc: 0.8826    \n",
      "Epoch 38/40\n",
      "60000/60000 [==============================] - 12s - loss: 0.3370 - acc: 0.8828    \n",
      "Epoch 39/40\n",
      "60000/60000 [==============================] - 13s - loss: 0.3351 - acc: 0.8848    \n",
      "Epoch 40/40\n",
      "60000/60000 [==============================] - 12s - loss: 0.3319 - acc: 0.8853    \n",
      "CPU times: user 23min 50s, sys: 5min 3s, total: 28min 53s\n",
      "Wall time: 9min 56s\n"
     ]
    }
   ],
   "source": [
    "%%time\n",
    "\n",
    "# Training\n",
    "epochs = 40 #run with 40 epochs instead of 10\n",
    "\n",
    "history = model.fit(x_train, \n",
    "                    y_train_cat, \n",
    "                    epochs=epochs, \n",
    "                    batch_size=128,\n",
    "                    verbose=1)"
   ]
  },
  {
   "cell_type": "code",
   "execution_count": 27,
   "metadata": {},
   "outputs": [
    {
     "data": {
      "text/plain": [
       "<matplotlib.text.Text at 0x7efd843a4710>"
      ]
     },
     "execution_count": 27,
     "metadata": {},
     "output_type": "execute_result"
    },
    {
     "data": {
      "image/png": "[encoded data removed]",
      "text/plain": [
       "<matplotlib.figure.Figure at 0x7efd845108d0>"
      ]
     },
     "metadata": {},
     "output_type": "display_data"
    },
    {
     "data": {
      "image/png": "[encoded data removed]",
      "text/plain": [
       "<matplotlib.figure.Figure at 0x7efd6077a550>"
      ]
     },
     "metadata": {},
     "output_type": "display_data"
    }
   ],
   "source": [
    "# Plot loss and accuracy in training\n",
    "\n",
    "plt.figure(figsize=(5,3))\n",
    "plt.plot(history.epoch,history.history['loss'])\n",
    "plt.title('loss')\n",
    "\n",
    "plt.figure(figsize=(5,3))\n",
    "plt.plot(history.epoch,history.history['acc'])\n",
    "plt.title('accuracy')"
   ]
  },
  {
   "cell_type": "code",
   "execution_count": 28,
   "metadata": {},
   "outputs": [
    {
     "name": "stdout",
     "output_type": "stream",
     "text": [
      "acc: 87.21%\n"
     ]
    }
   ],
   "source": [
    "# Evaluate on test set\n",
    "scores = model.evaluate(x_test, y_test_cat, verbose=2)\n",
    "print(\"%s: %.2f%%\" % (model.metrics_names[1], scores[1]*100))"
   ]
  },
  {
   "cell_type": "markdown",
   "metadata": {},
   "source": [
    "### Variant 4\n",
    "Change the batch size"
   ]
  },
  {
   "cell_type": "code",
   "execution_count": 29,
   "metadata": {},
   "outputs": [
    {
     "name": "stdout",
     "output_type": "stream",
     "text": [
      "_________________________________________________________________\n",
      "Layer (type)                 Output Shape              Param #   \n",
      "=================================================================\n",
      "conv2d_6 (Conv2D)            (None, 26, 26, 32)        320       \n",
      "_________________________________________________________________\n",
      "activation_9 (Activation)    (None, 26, 26, 32)        0         \n",
      "_________________________________________________________________\n",
      "max_pooling2d_5 (MaxPooling2 (None, 13, 13, 32)        0         \n",
      "_________________________________________________________________\n",
      "flatten_5 (Flatten)          (None, 5408)              0         \n",
      "_________________________________________________________________\n",
      "dense_7 (Dense)              (None, 10)                54090     \n",
      "_________________________________________________________________\n",
      "activation_10 (Activation)   (None, 10)                0         \n",
      "=================================================================\n",
      "Total params: 54,410\n",
      "Trainable params: 54,410\n",
      "Non-trainable params: 0\n",
      "_________________________________________________________________\n",
      "None\n"
     ]
    }
   ],
   "source": [
    "np.random.seed(123)\n",
    "model = Sequential()\n",
    "\n",
    "# Add model here\n",
    "model.add(Conv2D(32, (3, 3), input_shape=(28, 28, 1)))\n",
    "model.add(Activation(\"relu\"))\n",
    "model.add(MaxPooling2D((2,2)))\n",
    "model.add(Flatten())\n",
    "model.add(Dense(10))\n",
    "model.add(Activation(\"softmax\"))\n",
    "\n",
    "# You can also try different optimizers below\n",
    "model.compile(loss='categorical_crossentropy', \n",
    "              optimizer='sgd', \n",
    "              metrics=['accuracy'])\n",
    "print(model.summary())"
   ]
  },
  {
   "cell_type": "code",
   "execution_count": 30,
   "metadata": {},
   "outputs": [
    {
     "name": "stdout",
     "output_type": "stream",
     "text": [
      "Epoch 1/10\n",
      "60000/60000 [==============================] - 12s - loss: 1.3449 - acc: 0.5825    \n",
      "Epoch 2/10\n",
      "60000/60000 [==============================] - 11s - loss: 0.7259 - acc: 0.7533    \n",
      "Epoch 3/10\n",
      "60000/60000 [==============================] - 11s - loss: 0.6245 - acc: 0.7859    \n",
      "Epoch 4/10\n",
      "60000/60000 [==============================] - 11s - loss: 0.5778 - acc: 0.7984    \n",
      "Epoch 5/10\n",
      "60000/60000 [==============================] - 11s - loss: 0.5491 - acc: 0.8083    \n",
      "Epoch 6/10\n",
      "60000/60000 [==============================] - 11s - loss: 0.5306 - acc: 0.8143    \n",
      "Epoch 7/10\n",
      "60000/60000 [==============================] - 11s - loss: 0.5175 - acc: 0.8166    \n",
      "Epoch 8/10\n",
      "60000/60000 [==============================] - 11s - loss: 0.5042 - acc: 0.8222    \n",
      "Epoch 9/10\n",
      "60000/60000 [==============================] - 11s - loss: 0.4951 - acc: 0.8254    \n",
      "Epoch 10/10\n",
      "60000/60000 [==============================] - 10s - loss: 0.4878 - acc: 0.8279    \n",
      "CPU times: user 5min 56s, sys: 1min, total: 6min 57s\n",
      "Wall time: 1min 54s\n"
     ]
    }
   ],
   "source": [
    "%%time\n",
    "\n",
    "# Training\n",
    "epochs = 10\n",
    "\n",
    "history = model.fit(x_train, \n",
    "                    y_train_cat, \n",
    "                    epochs=epochs, \n",
    "                    batch_size=256, #use 256 as batch size instead of 128\n",
    "                    verbose=1)"
   ]
  },
  {
   "cell_type": "code",
   "execution_count": 31,
   "metadata": {},
   "outputs": [
    {
     "data": {
      "text/plain": [
       "<matplotlib.text.Text at 0x7efd3d67c080>"
      ]
     },
     "execution_count": 31,
     "metadata": {},
     "output_type": "execute_result"
    },
    {
     "data": {
      "image/png": "[encoded data removed]",
      "text/plain": [
       "<matplotlib.figure.Figure at 0x7efd68079da0>"
      ]
     },
     "metadata": {},
     "output_type": "display_data"
    },
    {
     "data": {
      "image/png": "[encoded data removed]",
      "text/plain": [
       "<matplotlib.figure.Figure at 0x7efd6047d320>"
      ]
     },
     "metadata": {},
     "output_type": "display_data"
    }
   ],
   "source": [
    "# Plot loss and accuracy in training\n",
    "\n",
    "plt.figure(figsize=(5,3))\n",
    "plt.plot(history.epoch,history.history['loss'])\n",
    "plt.title('loss')\n",
    "\n",
    "plt.figure(figsize=(5,3))\n",
    "plt.plot(history.epoch,history.history['acc'])\n",
    "plt.title('accuracy')"
   ]
  },
  {
   "cell_type": "code",
   "execution_count": 32,
   "metadata": {},
   "outputs": [
    {
     "name": "stdout",
     "output_type": "stream",
     "text": [
      "acc: 82.10%\n"
     ]
    }
   ],
   "source": [
    "# Evaluate on test set\n",
    "scores = model.evaluate(x_test, y_test_cat, verbose=2)\n",
    "print(\"%s: %.2f%%\" % (model.metrics_names[1], scores[1]*100))"
   ]
  },
  {
   "cell_type": "markdown",
   "metadata": {},
   "source": [
    "### Variant 5\n",
    "Change the type of optimizer"
   ]
  },
  {
   "cell_type": "code",
   "execution_count": 33,
   "metadata": {},
   "outputs": [
    {
     "name": "stdout",
     "output_type": "stream",
     "text": [
      "_________________________________________________________________\n",
      "Layer (type)                 Output Shape              Param #   \n",
      "=================================================================\n",
      "conv2d_7 (Conv2D)            (None, 26, 26, 32)        320       \n",
      "_________________________________________________________________\n",
      "activation_11 (Activation)   (None, 26, 26, 32)        0         \n",
      "_________________________________________________________________\n",
      "max_pooling2d_6 (MaxPooling2 (None, 13, 13, 32)        0         \n",
      "_________________________________________________________________\n",
      "flatten_6 (Flatten)          (None, 5408)              0         \n",
      "_________________________________________________________________\n",
      "dense_8 (Dense)              (None, 10)                54090     \n",
      "_________________________________________________________________\n",
      "activation_12 (Activation)   (None, 10)                0         \n",
      "=================================================================\n",
      "Total params: 54,410\n",
      "Trainable params: 54,410\n",
      "Non-trainable params: 0\n",
      "_________________________________________________________________\n",
      "None\n"
     ]
    }
   ],
   "source": [
    "np.random.seed(123)\n",
    "model = Sequential()\n",
    "\n",
    "# Add model here\n",
    "model.add(Conv2D(32, (3, 3), input_shape=(28, 28, 1)))\n",
    "model.add(Activation(\"relu\"))\n",
    "model.add(MaxPooling2D((2,2)))\n",
    "model.add(Flatten())\n",
    "model.add(Dense(10))\n",
    "model.add(Activation(\"softmax\"))\n",
    "\n",
    "# You can also try different optimizers below\n",
    "model.compile(loss='categorical_crossentropy', \n",
    "              optimizer=\"adam\", #use adam instead of sgd \n",
    "              metrics=['accuracy'])\n",
    "print(model.summary())"
   ]
  },
  {
   "cell_type": "code",
   "execution_count": 34,
   "metadata": {},
   "outputs": [
    {
     "name": "stdout",
     "output_type": "stream",
     "text": [
      "Epoch 1/10\n",
      "60000/60000 [==============================] - 12s - loss: 0.5324 - acc: 0.8169    \n",
      "Epoch 2/10\n",
      "60000/60000 [==============================] - 11s - loss: 0.3539 - acc: 0.8779    \n",
      "Epoch 3/10\n",
      "60000/60000 [==============================] - 13s - loss: 0.3162 - acc: 0.8894    \n",
      "Epoch 4/10\n",
      "60000/60000 [==============================] - 13s - loss: 0.2943 - acc: 0.8971    \n",
      "Epoch 5/10\n",
      "60000/60000 [==============================] - 12s - loss: 0.2760 - acc: 0.9030    \n",
      "Epoch 6/10\n",
      "60000/60000 [==============================] - 13s - loss: 0.2646 - acc: 0.9060    \n",
      "Epoch 7/10\n",
      "60000/60000 [==============================] - 12s - loss: 0.2537 - acc: 0.9099    \n",
      "Epoch 8/10\n",
      "60000/60000 [==============================] - 12s - loss: 0.2436 - acc: 0.9136    \n",
      "Epoch 9/10\n",
      "60000/60000 [==============================] - 13s - loss: 0.2370 - acc: 0.9155    \n",
      "Epoch 10/10\n",
      "60000/60000 [==============================] - 14s - loss: 0.2287 - acc: 0.9187    \n",
      "CPU times: user 6min 5s, sys: 1min 21s, total: 7min 27s\n",
      "Wall time: 2min 9s\n"
     ]
    }
   ],
   "source": [
    "%%time\n",
    "# Training\n",
    "epochs = 10\n",
    "\n",
    "history = model.fit(x_train, \n",
    "                    y_train_cat, \n",
    "                    epochs=epochs, \n",
    "                    batch_size=128,\n",
    "                    verbose=1)"
   ]
  },
  {
   "cell_type": "code",
   "execution_count": 35,
   "metadata": {},
   "outputs": [
    {
     "data": {
      "text/plain": [
       "<matplotlib.text.Text at 0x7efd3c08f470>"
      ]
     },
     "execution_count": 35,
     "metadata": {},
     "output_type": "execute_result"
    },
    {
     "data": {
      "image/png": "[encoded data removed]",
      "text/plain": [
       "<matplotlib.figure.Figure at 0x7efd847114a8>"
      ]
     },
     "metadata": {},
     "output_type": "display_data"
    },
    {
     "data": {
      "image/png": "[encoded data removed]",
      "text/plain": [
       "<matplotlib.figure.Figure at 0x7efd84738fd0>"
      ]
     },
     "metadata": {},
     "output_type": "display_data"
    }
   ],
   "source": [
    "# Plot loss and accuracy in training\n",
    "\n",
    "plt.figure(figsize=(5,3))\n",
    "plt.plot(history.epoch,history.history['loss'])\n",
    "plt.title('loss')\n",
    "\n",
    "plt.figure(figsize=(5,3))\n",
    "plt.plot(history.epoch,history.history['acc'])\n",
    "plt.title('accuracy')"
   ]
  },
  {
   "cell_type": "code",
   "execution_count": 36,
   "metadata": {},
   "outputs": [
    {
     "name": "stdout",
     "output_type": "stream",
     "text": [
      "acc: 89.80%\n"
     ]
    }
   ],
   "source": [
    "# Evaluate on test set\n",
    "scores = model.evaluate(x_test, y_test_cat, verbose=2)\n",
    "print(\"%s: %.2f%%\" % (model.metrics_names[1], scores[1]*100))"
   ]
  },
  {
   "cell_type": "markdown",
   "metadata": {},
   "source": [
    "### Fully-changed Variant\n",
    "I changed only one aspect of the network in the previous 5 variants. And the variant with \"adam\" has already met what is requested. In this variant, I would like to change more than one aspect."
   ]
  },
  {
   "cell_type": "code",
   "execution_count": 37,
   "metadata": {},
   "outputs": [
    {
     "name": "stdout",
     "output_type": "stream",
     "text": [
      "_________________________________________________________________\n",
      "Layer (type)                 Output Shape              Param #   \n",
      "=================================================================\n",
      "conv2d_8 (Conv2D)            (None, 26, 26, 32)        320       \n",
      "_________________________________________________________________\n",
      "conv2d_9 (Conv2D)            (None, 24, 24, 64)        18496     \n",
      "_________________________________________________________________\n",
      "max_pooling2d_7 (MaxPooling2 (None, 12, 12, 64)        0         \n",
      "_________________________________________________________________\n",
      "dropout_1 (Dropout)          (None, 12, 12, 64)        0         \n",
      "_________________________________________________________________\n",
      "batch_normalization_1 (Batch (None, 12, 12, 64)        256       \n",
      "_________________________________________________________________\n",
      "flatten_7 (Flatten)          (None, 9216)              0         \n",
      "_________________________________________________________________\n",
      "dense_9 (Dense)              (None, 256)               2359552   \n",
      "_________________________________________________________________\n",
      "dropout_2 (Dropout)          (None, 256)               0         \n",
      "_________________________________________________________________\n",
      "batch_normalization_2 (Batch (None, 256)               1024      \n",
      "_________________________________________________________________\n",
      "dense_10 (Dense)             (None, 10)                2570      \n",
      "=================================================================\n",
      "Total params: 2,382,218\n",
      "Trainable params: 2,381,578\n",
      "Non-trainable params: 640\n",
      "_________________________________________________________________\n",
      "None\n"
     ]
    }
   ],
   "source": [
    "np.random.seed(123)\n",
    "model = Sequential()\n",
    "\n",
    "# Add model here\n",
    "model.add(Conv2D(32,(3, 3), input_shape=(28,28,1),activation=\"relu\"))\n",
    "model.add(Conv2D(64, (3, 3), activation='relu'))\n",
    "model.add(MaxPooling2D((2, 2)))\n",
    "model.add(Dropout(0.25))\n",
    "model.add(BatchNormalization())\n",
    "model.add(Flatten())\n",
    "model.add(Dense(256, activation=\"relu\"))\n",
    "model.add(Dropout(0.4))\n",
    "model.add(BatchNormalization())\n",
    "model.add(Dense(10,activation=\"softmax\"))\n",
    "\n",
    "# You can also try different optimizers below\n",
    "model.compile(loss='categorical_crossentropy', \n",
    "              optimizer=\"adam\", \n",
    "              metrics=['accuracy'])\n",
    "print(model.summary())"
   ]
  },
  {
   "cell_type": "code",
   "execution_count": 38,
   "metadata": {},
   "outputs": [
    {
     "name": "stdout",
     "output_type": "stream",
     "text": [
      "Epoch 1/25\n",
      "60000/60000 [==============================] - 125s - loss: 0.4068 - acc: 0.8556   \n",
      "Epoch 2/25\n",
      "60000/60000 [==============================] - 131s - loss: 0.2551 - acc: 0.9080   \n",
      "Epoch 3/25\n",
      "60000/60000 [==============================] - 144s - loss: 0.2074 - acc: 0.9242   \n",
      "Epoch 4/25\n",
      "60000/60000 [==============================] - 127s - loss: 0.1775 - acc: 0.9341   \n",
      "Epoch 5/25\n",
      "60000/60000 [==============================] - 136s - loss: 0.1528 - acc: 0.9446   \n",
      "Epoch 6/25\n",
      "60000/60000 [==============================] - 123s - loss: 0.1342 - acc: 0.9510   \n",
      "Epoch 7/25\n",
      "60000/60000 [==============================] - 131s - loss: 0.1159 - acc: 0.9566   \n",
      "Epoch 8/25\n",
      "60000/60000 [==============================] - 131s - loss: 0.1003 - acc: 0.9624   \n",
      "Epoch 9/25\n",
      "60000/60000 [==============================] - 175s - loss: 0.0941 - acc: 0.9653   \n",
      "Epoch 10/25\n",
      "60000/60000 [==============================] - 169s - loss: 0.0815 - acc: 0.9699   \n",
      "Epoch 11/25\n",
      "60000/60000 [==============================] - 190s - loss: 0.0745 - acc: 0.9727   \n",
      "Epoch 12/25\n",
      "60000/60000 [==============================] - 226s - loss: 0.0688 - acc: 0.9753   \n",
      "Epoch 13/25\n",
      "60000/60000 [==============================] - 239s - loss: 0.0682 - acc: 0.9750   \n",
      "Epoch 14/25\n",
      "60000/60000 [==============================] - 203s - loss: 0.0565 - acc: 0.9789   \n",
      "Epoch 15/25\n",
      "60000/60000 [==============================] - 101s - loss: 0.0570 - acc: 0.9793   \n",
      "Epoch 16/25\n",
      "60000/60000 [==============================] - 151s - loss: 0.0499 - acc: 0.9814   \n",
      "Epoch 17/25\n",
      "60000/60000 [==============================] - 125s - loss: 0.0480 - acc: 0.9826   \n",
      "Epoch 18/25\n",
      "60000/60000 [==============================] - 147s - loss: 0.0470 - acc: 0.9829   \n",
      "Epoch 19/25\n",
      "60000/60000 [==============================] - 143s - loss: 0.0411 - acc: 0.9848   \n",
      "Epoch 20/25\n",
      "60000/60000 [==============================] - 154s - loss: 0.0412 - acc: 0.9854   \n",
      "Epoch 21/25\n",
      "60000/60000 [==============================] - 170s - loss: 0.0384 - acc: 0.9862   \n",
      "Epoch 22/25\n",
      "60000/60000 [==============================] - 106s - loss: 0.0358 - acc: 0.9872   \n",
      "Epoch 23/25\n",
      "60000/60000 [==============================] - 143s - loss: 0.0368 - acc: 0.9867   \n",
      "Epoch 24/25\n",
      "60000/60000 [==============================] - 183s - loss: 0.0331 - acc: 0.9886   \n",
      "Epoch 25/25\n",
      "60000/60000 [==============================] - 142s - loss: 0.0344 - acc: 0.9878   \n",
      "CPU times: user 3h 10min 36s, sys: 19min 54s, total: 3h 30min 31s\n",
      "Wall time: 1h 3min 47s\n"
     ]
    }
   ],
   "source": [
    "%%time\n",
    "\n",
    "# Training\n",
    "epochs = 25\n",
    "\n",
    "history = model.fit(x_train, \n",
    "                    y_train_cat, \n",
    "                    epochs=epochs, \n",
    "                    batch_size=128,\n",
    "                    verbose=1)"
   ]
  },
  {
   "cell_type": "code",
   "execution_count": 39,
   "metadata": {},
   "outputs": [
    {
     "data": {
      "text/plain": [
       "<matplotlib.text.Text at 0x7efce9b2bfd0>"
      ]
     },
     "execution_count": 39,
     "metadata": {},
     "output_type": "execute_result"
    },
    {
     "data": {
      "image/png": "[encoded data removed]",
      "text/plain": [
       "<matplotlib.figure.Figure at 0x7efd606b7710>"
      ]
     },
     "metadata": {},
     "output_type": "display_data"
    },
    {
     "data": {
      "image/png": "[encoded data removed]",
      "text/plain": [
       "<matplotlib.figure.Figure at 0x7efce9b782e8>"
      ]
     },
     "metadata": {},
     "output_type": "display_data"
    }
   ],
   "source": [
    "# Plot loss and accuracy in training\n",
    "\n",
    "plt.figure(figsize=(5,3))\n",
    "plt.plot(history.epoch,history.history['loss'])\n",
    "plt.title('loss')\n",
    "\n",
    "plt.figure(figsize=(5,3))\n",
    "plt.plot(history.epoch,history.history['acc'])\n",
    "plt.title('accuracy')"
   ]
  },
  {
   "cell_type": "code",
   "execution_count": 40,
   "metadata": {},
   "outputs": [
    {
     "name": "stdout",
     "output_type": "stream",
     "text": [
      "acc: 93.15%\n"
     ]
    }
   ],
   "source": [
    "# Evaluate on test set\n",
    "scores = model.evaluate(x_test, y_test_cat, verbose=2)\n",
    "print(\"%s: %.2f%%\" % (model.metrics_names[1], scores[1]*100))"
   ]
  },
  {
   "cell_type": "markdown",
   "metadata": {},
   "source": [
    "### Discussion"
   ]
  },
  {
   "cell_type": "markdown",
   "metadata": {},
   "source": [
    "I have only changed one aspect of the network in the first five variants, while almost everything has been changed in the last one. One of the first 5 variants, the one with optimizer changed, has met the requirement, which is to have a 5% improvement. All the accuracy is listed below:\n",
    "\n",
    "|Variant|Accuracy|\n",
    "|---|---|\n",
    "|Original|83.7%|\n",
    "|Number of Layers and Neurons|86.9%|\n",
    "|Activation|84.5%|\n",
    "|Number of Epochs|87.2%|\n",
    "|Batch Size|82.1%|\n",
    "|Optimizer|89.8%|\n",
    "|Fully-changed|93.2%|\n",
    "\n",
    "\n",
    "If we refer to that only one aspect of the original network is changed, most of the accuracy of the first 5 variants are better than the accuracy of the original one. As what is illustrated in the 1st variant, a network with more complicated structure may be better than a simpler one, but it is also rather noticeable that the complicated one will surely take more time to train. For the 2nd variant, it has a small improvement. But it is not as good as others. So, in practice, it is quite reasonable that we need to adjust almost every aspect of the network to achieve a better result. For the 3rd variant, the fact that the variant with more epochs will have a higher accuracy is quite obvious since weights are more close to optima if compared to the original one. For the 4th variant, the result actually is worse than the original one. I have tried with different values, such as 64, 256,512 and 1024. None of them can lead to a better result. I suppose more trials are needed. For the 5th variant, it seems that \"adam\" optimizer outperform the \"sgd\" optimizer. Overall, we can see that the accuracy can be improved by adjusting the parameter of different aspects. However, it seems to be difficult to achieve over 90% accuracy with only one aspect changeable.\n",
    "\n",
    "To achieve a better accuracy, I have changed the almost everything of the network in the last variant. Additionally, I use Dropout layer and BatchNormalization layer to improve the overall accuracy and speed up the computation. As what has shown in the first 5 variants, I increase the number of epochs and change the optimizer to \"adam\" as well. However, because of the complicated topological structures and the number of epochs, this variant took significantly  longer time than others."
   ]
  }
 ],
 "metadata": {
  "kernelspec": {
   "display_name": "Python 3",
   "language": "python",
   "name": "python3"
  },
  "language_info": {
   "codemirror_mode": {
    "name": "ipython",
    "version": 3
   },
   "file_extension": ".py",
   "mimetype": "text/x-python",
   "name": "python",
   "nbconvert_exporter": "python",
   "pygments_lexer": "ipython3",
   "version": "3.6.2"
  }
 },
 "nbformat": 4,
 "nbformat_minor": 2
}
