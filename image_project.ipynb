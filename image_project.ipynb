{
 "cells": [
  {
   "cell_type": "markdown",
   "metadata": {},
   "source": [
    "# DATA20001 Deep Learning - Group Project\n",
    "## Image project\n",
    "\n",
    "**Due Wednesday December 13, before 23:59.**\n",
    "\n",
    "The task is to learn to assign the correct labels to a set of images.  The images are originally from a photo-sharing site and released under Creative Commons-licenses allowing sharing.  The training set contains 20 000 images. We have resized them and cropped them to 128x128 to make the task a bit more manageable.\n",
    "\n",
    "We're only giving you the code for downloading the data. The rest you'll have to do yourselves.\n",
    "\n",
    "Some comments and hints particular to the image project:\n",
    "\n",
    "- One image may belong to many classes in this problem, i.e., it's a multi-label classification problem. In fact there are images that don't belong to any of our classes, and you should also be able to handle these correctly. Pay careful attention to how you design the outputs of the network (e.g., what activation to use) and what loss function should be used.\n",
    "\n",
    "- As the dataset is pretty imbalanced, don't focus too strictly on the outputs being probabilistic. (Meaning that the right threshold for selecting the label might not be 0.5.)\n",
    "\n",
    "- Image files can be loaded as numpy matrices for example using `imageio.imread`. Most images are color, but a few grayscale. You need to handle the grayscale ones somehow as they would have a different number of color channels (depth) than the color ones.\n",
    "\n",
    "- Loading all the images into one big matrix as we have done in the exercises is not feasible (e.g. the virtual servers in CSC have only 3 GB of RAM). You need to load the images in smaller chunks for the training. This shouldn't be a problem we are doing mini-batch training anyway, and thus we don't need to keep all the images in memory. You can simply pass you current chunk of images to `model.fit()` as it remembers the weights from the previous run.\n",
    "\n",
    "- You need to think carefully about how you load the annotations and match them up with the corresponding images, especially as you are loading them in smaller chunks."
   ]
  },
  {
   "cell_type": "markdown",
   "metadata": {},
   "source": [
    "## Download the data"
   ]
  },
  {
   "cell_type": "code",
   "execution_count": 1,
   "metadata": {},
   "outputs": [
    {
     "name": "stderr",
     "output_type": "stream",
     "text": [
      "Using TensorFlow backend.\n"
     ]
    },
    {
     "name": "stdout",
     "output_type": "stream",
     "text": [
      "Downloading data from https://www.cs.helsinki.fi/u/mvsjober/misc/dl2017-image-proj.zip\n",
      "277667840/279523357 [============================>.] - ETA: 0s"
     ]
    },
    {
     "data": {
      "text/plain": [
       "'./train/dl2017-image-proj.zip'"
      ]
     },
     "execution_count": 1,
     "metadata": {},
     "output_type": "execute_result"
    }
   ],
   "source": [
    "from keras.utils.data_utils import get_file\n",
    "\n",
    "database_path = 'train/'\n",
    "\n",
    "dl_file='dl2017-image-proj.zip'\n",
    "dl_url='https://www.cs.helsinki.fi/u/mvsjober/misc/'\n",
    "get_file(dl_file, dl_url+dl_file, cache_dir='./', cache_subdir=database_path, extract=True)"
   ]
  },
  {
   "cell_type": "markdown",
   "metadata": {},
   "source": [
    "The above command downloaded and extracted the data files into the `train` subdirectory.\n",
    "\n",
    "The images can be found in `train/images`, and are named as `im1.jpg`, `im2.jpg` and so on until `im20000.jpg`.\n",
    "\n",
    "The class labels, or annotations, can be found in `train/annotations` as `CLASSNAME.txt`, where CLASSNAME is one of the fourteen classes: *baby, bird, car, clouds, dog, female, flower, male, night, people, portrait, river, sea,* and *tree*.\n",
    "\n",
    "Each annotation file is a simple text file that lists the images that depict that class, one per line. The images are listed with their number, not the full filename. For example `5969` refers to the image `im5969.jpg`."
   ]
  },
  {
   "cell_type": "markdown",
   "metadata": {},
   "source": [
    "## Your stuff goes here ..."
   ]
  },
  {
   "cell_type": "markdown",
   "metadata": {},
   "source": [
    "### Import"
   ]
  },
  {
   "cell_type": "code",
   "execution_count": 2,
   "metadata": {},
   "outputs": [],
   "source": [
    "%matplotlib inline\n",
    "\n",
    "from keras.models import *\n",
    "from keras.layers import *\n",
    "from keras.optimizers import *\n",
    "from keras.layers.convolutional import *\n",
    "from keras.preprocessing.image import *\n",
    "from keras import backend as K\n",
    "from keras.utils.vis_utils import model_to_dot\n",
    "from keras.utils import np_utils\n",
    "import matplotlib.pyplot as plt\n",
    "import numpy as np\n",
    "from sklearn.model_selection import KFold\n",
    "from scipy import misc\n",
    "from sklearn.metrics import f1_score\n",
    "from IPython.display import SVG"
   ]
  },
  {
   "cell_type": "markdown",
   "metadata": {},
   "source": [
    "### Pre-process"
   ]
  },
  {
   "cell_type": "code",
   "execution_count": 3,
   "metadata": {},
   "outputs": [],
   "source": [
    "class_indices = {0:\"baby\",\n",
    "                 1:\"bird\",\n",
    "                 2:\"car\",\n",
    "                 3:\"clouds\",\n",
    "                 4:\"dog\",\n",
    "                 5:\"female\",\n",
    "                 6:\"flower\",\n",
    "                 7:\"male\",\n",
    "                 8:\"night\",\n",
    "                 9:\"people\",\n",
    "                 10:\"portrait\",\n",
    "                 11:\"river\",\n",
    "                 12:\"sea\",\n",
    "                 13:\"tree\"}"
   ]
  },
  {
   "cell_type": "markdown",
   "metadata": {},
   "source": [
    "#### Label and file name loading"
   ]
  },
  {
   "cell_type": "code",
   "execution_count": 4,
   "metadata": {},
   "outputs": [],
   "source": [
    "N = 20000\n",
    "num_class = len(class_indices)\n",
    "\n",
    "\n",
    "img_list = [database_path+\"images/\"+\"im\"+str(x)+\".jpg\" for x in range(1,N+1)]\n",
    "y = np.zeros((N,num_class))\n",
    "\n",
    "for k,v in class_indices.items():\n",
    "    with open(database_path+\"annotations/\"+v+\".txt\",\"r\") as fp:\n",
    "        for line in fp:\n",
    "            y[int(line)-1,k] = 1"
   ]
  },
  {
   "cell_type": "markdown",
   "metadata": {},
   "source": [
    "#### Loading dataset"
   ]
  },
  {
   "cell_type": "code",
   "execution_count": 5,
   "metadata": {},
   "outputs": [],
   "source": [
    "img_size = (32,32)\n",
    "\n",
    "image_load_func = lambda path: misc.imresize(misc.imread(path,mode=\"RGB\"),size=img_size)"
   ]
  },
  {
   "cell_type": "code",
   "execution_count": 6,
   "metadata": {},
   "outputs": [
    {
     "name": "stdout",
     "output_type": "stream",
     "text": [
      "male\n",
      "people\n"
     ]
    },
    {
     "data": {
      "image/png": "[encoded data removed]",
      "text/plain": [
       "<matplotlib.figure.Figure at 0x7f3dcb1a2f28>"
      ]
     },
     "metadata": {},
     "output_type": "display_data"
    }
   ],
   "source": [
    "example=3\n",
    "img = image_load_func(img_list[example])\n",
    "cmaps = [plt.cm.Reds_r, plt.cm.Greens_r, plt.cm.Blues_r]\n",
    "for l in range(3):\n",
    "    plt.subplot(1, 4, l+1)\n",
    "    plt.imshow(img[:,:,l],cmap=cmaps[l])\n",
    "    plt.axis('off')\n",
    "plt.subplot(1, 4, 4)\n",
    "plt.imshow(img)\n",
    "plt.axis('off')\n",
    "\n",
    "if sum(y[example]==1)==0:\n",
    "    print(\"No label\")\n",
    "else:\n",
    "    for i in np.argwhere(y[example]==1).flatten():\n",
    "        print(class_indices[i])"
   ]
  },
  {
   "cell_type": "code",
   "execution_count": 7,
   "metadata": {},
   "outputs": [
    {
     "name": "stdout",
     "output_type": "stream",
     "text": [
      "(20000, 32, 32, 3)\n"
     ]
    }
   ],
   "source": [
    "X = np.stack([image_load_func(file) for file in img_list])\n",
    "print(X.shape)"
   ]
  },
  {
   "cell_type": "markdown",
   "metadata": {},
   "source": [
    "### Model Building"
   ]
  },
  {
   "cell_type": "code",
   "execution_count": 8,
   "metadata": {},
   "outputs": [],
   "source": [
    "from densenet import *"
   ]
  },
  {
   "cell_type": "code",
   "execution_count": 9,
   "metadata": {},
   "outputs": [],
   "source": [
    "def getThreshold(y_pred,y_true,threshold_interval):\n",
    "    threshold = np.arange(0,1,threshold_interval)\n",
    "\n",
    "    best_threshold = np.zeros(y_true.shape[1])\n",
    "    for i in range(y_pred.shape[1]):\n",
    "        temp = np.array([[1 if pred>j else 0 for j in threshold] for pred in y_pred[:,i]])\n",
    "        score = np.array([f1_score(y_true[:,i],temp[:,j], average='micro') for j in range(len(threshold)) ])\n",
    "        best_threshold[i] = threshold[score.argmax()]\n",
    "        print(\"Best threshold for class\",i,\"：\",best_threshold[i])\n",
    "    return best_threshold"
   ]
  },
  {
   "cell_type": "markdown",
   "metadata": {},
   "source": [
    "#### Standard DenseNet with output layer adjusted"
   ]
  },
  {
   "cell_type": "code",
   "execution_count": 10,
   "metadata": {},
   "outputs": [],
   "source": [
    "#hyper-parameter\n",
    "nb_filter=32\n",
    "nb_dense_block=3\n",
    "nb_layers=3\n",
    "growth_rate=36\n",
    "dropout_rate=0.3\n",
    "weight_decay=0.00001"
   ]
  },
  {
   "cell_type": "code",
   "execution_count": 11,
   "metadata": {},
   "outputs": [
    {
     "name": "stdout",
     "output_type": "stream",
     "text": [
      "____________________________________________________________________________________________________\n",
      "Layer (type)                     Output Shape          Param #     Connected to                     \n",
      "====================================================================================================\n",
      "input_1 (InputLayer)             (None, 32, 32, 3)     0                                            \n",
      "____________________________________________________________________________________________________\n",
      "initial_conv2D (Conv2D)          (None, 32, 32, 32)    864         input_1[0][0]                    \n",
      "____________________________________________________________________________________________________\n",
      "batch_normalization_1 (BatchNorm (None, 32, 32, 32)    128         initial_conv2D[0][0]             \n",
      "____________________________________________________________________________________________________\n",
      "activation_1 (Activation)        (None, 32, 32, 32)    0           batch_normalization_1[0][0]      \n",
      "____________________________________________________________________________________________________\n",
      "conv2d_1 (Conv2D)                (None, 32, 32, 36)    10404       activation_1[0][0]               \n",
      "____________________________________________________________________________________________________\n",
      "dropout_1 (Dropout)              (None, 32, 32, 36)    0           conv2d_1[0][0]                   \n",
      "____________________________________________________________________________________________________\n",
      "concatenate_1 (Concatenate)      (None, 32, 32, 68)    0           initial_conv2D[0][0]             \n",
      "                                                                   dropout_1[0][0]                  \n",
      "____________________________________________________________________________________________________\n",
      "batch_normalization_2 (BatchNorm (None, 32, 32, 68)    128         concatenate_1[0][0]              \n",
      "____________________________________________________________________________________________________\n",
      "activation_2 (Activation)        (None, 32, 32, 68)    0           batch_normalization_2[0][0]      \n",
      "____________________________________________________________________________________________________\n",
      "conv2d_2 (Conv2D)                (None, 32, 32, 36)    22068       activation_2[0][0]               \n",
      "____________________________________________________________________________________________________\n",
      "dropout_2 (Dropout)              (None, 32, 32, 36)    0           conv2d_2[0][0]                   \n",
      "____________________________________________________________________________________________________\n",
      "concatenate_2 (Concatenate)      (None, 32, 32, 104)   0           initial_conv2D[0][0]             \n",
      "                                                                   dropout_1[0][0]                  \n",
      "                                                                   dropout_2[0][0]                  \n",
      "____________________________________________________________________________________________________\n",
      "batch_normalization_3 (BatchNorm (None, 32, 32, 104)   128         concatenate_2[0][0]              \n",
      "____________________________________________________________________________________________________\n",
      "activation_3 (Activation)        (None, 32, 32, 104)   0           batch_normalization_3[0][0]      \n",
      "____________________________________________________________________________________________________\n",
      "conv2d_3 (Conv2D)                (None, 32, 32, 36)    33732       activation_3[0][0]               \n",
      "____________________________________________________________________________________________________\n",
      "dropout_3 (Dropout)              (None, 32, 32, 36)    0           conv2d_3[0][0]                   \n",
      "____________________________________________________________________________________________________\n",
      "concatenate_3 (Concatenate)      (None, 32, 32, 140)   0           initial_conv2D[0][0]             \n",
      "                                                                   dropout_1[0][0]                  \n",
      "                                                                   dropout_2[0][0]                  \n",
      "                                                                   dropout_3[0][0]                  \n",
      "____________________________________________________________________________________________________\n",
      "batch_normalization_4 (BatchNorm (None, 32, 32, 140)   128         concatenate_3[0][0]              \n",
      "____________________________________________________________________________________________________\n",
      "activation_4 (Activation)        (None, 32, 32, 140)   0           batch_normalization_4[0][0]      \n",
      "____________________________________________________________________________________________________\n",
      "conv2d_4 (Conv2D)                (None, 32, 32, 140)   19740       activation_4[0][0]               \n",
      "____________________________________________________________________________________________________\n",
      "dropout_4 (Dropout)              (None, 32, 32, 140)   0           conv2d_4[0][0]                   \n",
      "____________________________________________________________________________________________________\n",
      "average_pooling2d_1 (AveragePool (None, 16, 16, 140)   0           dropout_4[0][0]                  \n",
      "____________________________________________________________________________________________________\n",
      "batch_normalization_5 (BatchNorm (None, 16, 16, 140)   64          average_pooling2d_1[0][0]        \n",
      "____________________________________________________________________________________________________\n",
      "activation_5 (Activation)        (None, 16, 16, 140)   0           batch_normalization_5[0][0]      \n",
      "____________________________________________________________________________________________________\n",
      "conv2d_5 (Conv2D)                (None, 16, 16, 36)    45396       activation_5[0][0]               \n",
      "____________________________________________________________________________________________________\n",
      "dropout_5 (Dropout)              (None, 16, 16, 36)    0           conv2d_5[0][0]                   \n",
      "____________________________________________________________________________________________________\n",
      "concatenate_4 (Concatenate)      (None, 16, 16, 176)   0           average_pooling2d_1[0][0]        \n",
      "                                                                   dropout_5[0][0]                  \n",
      "____________________________________________________________________________________________________\n",
      "batch_normalization_6 (BatchNorm (None, 16, 16, 176)   64          concatenate_4[0][0]              \n",
      "____________________________________________________________________________________________________\n",
      "activation_6 (Activation)        (None, 16, 16, 176)   0           batch_normalization_6[0][0]      \n",
      "____________________________________________________________________________________________________\n",
      "conv2d_6 (Conv2D)                (None, 16, 16, 36)    57060       activation_6[0][0]               \n",
      "____________________________________________________________________________________________________\n",
      "dropout_6 (Dropout)              (None, 16, 16, 36)    0           conv2d_6[0][0]                   \n",
      "____________________________________________________________________________________________________\n",
      "concatenate_5 (Concatenate)      (None, 16, 16, 212)   0           average_pooling2d_1[0][0]        \n",
      "                                                                   dropout_5[0][0]                  \n",
      "                                                                   dropout_6[0][0]                  \n",
      "____________________________________________________________________________________________________\n",
      "batch_normalization_7 (BatchNorm (None, 16, 16, 212)   64          concatenate_5[0][0]              \n",
      "____________________________________________________________________________________________________\n",
      "activation_7 (Activation)        (None, 16, 16, 212)   0           batch_normalization_7[0][0]      \n",
      "____________________________________________________________________________________________________\n",
      "conv2d_7 (Conv2D)                (None, 16, 16, 36)    68724       activation_7[0][0]               \n",
      "____________________________________________________________________________________________________\n",
      "dropout_7 (Dropout)              (None, 16, 16, 36)    0           conv2d_7[0][0]                   \n",
      "____________________________________________________________________________________________________\n",
      "concatenate_6 (Concatenate)      (None, 16, 16, 248)   0           average_pooling2d_1[0][0]        \n",
      "                                                                   dropout_5[0][0]                  \n",
      "                                                                   dropout_6[0][0]                  \n",
      "                                                                   dropout_7[0][0]                  \n",
      "____________________________________________________________________________________________________\n",
      "batch_normalization_8 (BatchNorm (None, 16, 16, 248)   64          concatenate_6[0][0]              \n",
      "____________________________________________________________________________________________________\n",
      "activation_8 (Activation)        (None, 16, 16, 248)   0           batch_normalization_8[0][0]      \n",
      "____________________________________________________________________________________________________\n",
      "conv2d_8 (Conv2D)                (None, 16, 16, 248)   61752       activation_8[0][0]               \n",
      "____________________________________________________________________________________________________\n",
      "dropout_8 (Dropout)              (None, 16, 16, 248)   0           conv2d_8[0][0]                   \n",
      "____________________________________________________________________________________________________\n",
      "average_pooling2d_2 (AveragePool (None, 8, 8, 248)     0           dropout_8[0][0]                  \n",
      "____________________________________________________________________________________________________\n",
      "batch_normalization_9 (BatchNorm (None, 8, 8, 248)     32          average_pooling2d_2[0][0]        \n",
      "____________________________________________________________________________________________________\n",
      "activation_9 (Activation)        (None, 8, 8, 248)     0           batch_normalization_9[0][0]      \n",
      "____________________________________________________________________________________________________\n",
      "conv2d_9 (Conv2D)                (None, 8, 8, 36)      80388       activation_9[0][0]               \n",
      "____________________________________________________________________________________________________\n",
      "dropout_9 (Dropout)              (None, 8, 8, 36)      0           conv2d_9[0][0]                   \n",
      "____________________________________________________________________________________________________\n",
      "concatenate_7 (Concatenate)      (None, 8, 8, 284)     0           average_pooling2d_2[0][0]        \n",
      "                                                                   dropout_9[0][0]                  \n",
      "____________________________________________________________________________________________________\n",
      "batch_normalization_10 (BatchNor (None, 8, 8, 284)     32          concatenate_7[0][0]              \n",
      "____________________________________________________________________________________________________\n",
      "activation_10 (Activation)       (None, 8, 8, 284)     0           batch_normalization_10[0][0]     \n",
      "____________________________________________________________________________________________________\n",
      "conv2d_10 (Conv2D)               (None, 8, 8, 36)      92052       activation_10[0][0]              \n",
      "____________________________________________________________________________________________________\n",
      "dropout_10 (Dropout)             (None, 8, 8, 36)      0           conv2d_10[0][0]                  \n",
      "____________________________________________________________________________________________________\n",
      "concatenate_8 (Concatenate)      (None, 8, 8, 320)     0           average_pooling2d_2[0][0]        \n",
      "                                                                   dropout_9[0][0]                  \n",
      "                                                                   dropout_10[0][0]                 \n",
      "____________________________________________________________________________________________________\n",
      "batch_normalization_11 (BatchNor (None, 8, 8, 320)     32          concatenate_8[0][0]              \n",
      "____________________________________________________________________________________________________\n",
      "activation_11 (Activation)       (None, 8, 8, 320)     0           batch_normalization_11[0][0]     \n",
      "____________________________________________________________________________________________________\n",
      "conv2d_11 (Conv2D)               (None, 8, 8, 36)      103716      activation_11[0][0]              \n",
      "____________________________________________________________________________________________________\n",
      "dropout_11 (Dropout)             (None, 8, 8, 36)      0           conv2d_11[0][0]                  \n",
      "____________________________________________________________________________________________________\n",
      "concatenate_9 (Concatenate)      (None, 8, 8, 356)     0           average_pooling2d_2[0][0]        \n",
      "                                                                   dropout_9[0][0]                  \n",
      "                                                                   dropout_10[0][0]                 \n",
      "                                                                   dropout_11[0][0]                 \n",
      "____________________________________________________________________________________________________\n",
      "batch_normalization_12 (BatchNor (None, 8, 8, 356)     32          concatenate_9[0][0]              \n",
      "____________________________________________________________________________________________________\n",
      "activation_12 (Activation)       (None, 8, 8, 356)     0           batch_normalization_12[0][0]     \n",
      "____________________________________________________________________________________________________\n",
      "global_average_pooling2d_1 (Glob (None, 356)           0           activation_12[0][0]              \n",
      "____________________________________________________________________________________________________\n",
      "dense_1 (Dense)                  (None, 14)            4998        global_average_pooling2d_1[0][0] \n",
      "====================================================================================================\n",
      "Total params: 601,790\n",
      "Trainable params: 601,342\n",
      "Non-trainable params: 448\n",
      "____________________________________________________________________________________________________\n",
      "None\n"
     ]
    }
   ],
   "source": [
    "dn = DenseNet(num_class, X.shape[1:], nb_layers*3+4, nb_dense_block, growth_rate,\n",
    "             nb_filter, dropout_rate=dropout_rate, weight_decay=weight_decay)\n",
    "dn.compile(loss='binary_crossentropy', \n",
    "              optimizer='adam')\n",
    "\n",
    "print(dn.summary())"
   ]
  },
  {
   "cell_type": "code",
   "execution_count": null,
   "metadata": {},
   "outputs": [],
   "source": [
    "SVG(model_to_dot(dn, show_shapes=True).create(prog='dot', format='svg'))"
   ]
  },
  {
   "cell_type": "code",
   "execution_count": null,
   "metadata": {},
   "outputs": [],
   "source": [
    "%%time\n",
    "\n",
    "epochs = 3\n",
    "\n",
    "history = dn.fit(X,y,epochs=epochs,batch_size=64,verbose=1)"
   ]
  },
  {
   "cell_type": "code",
   "execution_count": null,
   "metadata": {},
   "outputs": [],
   "source": [
    "plt.figure(figsize=(5,3))\n",
    "plt.plot(history.epoch,history.history['loss'])\n",
    "plt.title('loss')"
   ]
  },
  {
   "cell_type": "code",
   "execution_count": null,
   "metadata": {},
   "outputs": [
    {
     "name": "stdout",
     "output_type": "stream",
     "text": [
      "Epoch 1/5\n",
      "  576/16000 [>.............................] - ETA: 1323s - loss: 0.3296"
     ]
    }
   ],
   "source": [
    "%%time\n",
    "\n",
    "epochs = 5\n",
    "#5-fold cross validation\n",
    "score = []\n",
    "kf = KFold(n_splits=5,shuffle=True)\n",
    "for train,val in kf.split(X, y):\n",
    "    dn = DenseNet(num_class, X.shape[1:], nb_layers*3+4, nb_dense_block, growth_rate,\n",
    "             nb_filter, dropout_rate=dropout_rate, weight_decay=weight_decay)\n",
    "    dn.compile(loss='binary_crossentropy', optimizer='adam')\n",
    "    dn.fit(X[train],y[train],epochs=epochs,batch_size=64,verbose=1)\n",
    "    y_train_pred = dn.predict(X[train],batch_size=32, verbose=1)\n",
    "    threshold=getThreshold(y_train_pred,y[train],0.001)\n",
    "    y_val_pred = 1*(dn.predict(X[val],batch_size=32, verbose=1)>threshold)    \n",
    "    score.append(f1_score(y[val], y_val_pred, average='micro'))\n",
    "print(\"F1 Score:\", np.mean(score),\"+/-\", np.std(score))"
   ]
  },
  {
   "cell_type": "code",
   "execution_count": 13,
   "metadata": {},
   "outputs": [
    {
     "name": "stdout",
     "output_type": "stream",
     "text": [
      "F1 Score: 0.232187499321 +/- 0.0173297726876\n"
     ]
    }
   ],
   "source": [
    "print(\"F1 Score:\", np.mean(score),\"+/-\", np.std(score))"
   ]
  },
  {
   "cell_type": "markdown",
   "metadata": {},
   "source": [
    "#### Customized DenseNet"
   ]
  },
  {
   "cell_type": "code",
   "execution_count": null,
   "metadata": {},
   "outputs": [],
   "source": [
    "def getCutmoizedDenseNet():\n",
    "    nb_filter=32\n",
    "    weight_decay=0.00001\n",
    "    dropout_rate=0.2\n",
    "    nb_dense_block=3\n",
    "    nb_layers=2\n",
    "    growth_rate=1\n",
    "    \n",
    "    model_input = Input(shape=X.shape[1:])\n",
    "\n",
    "    x = Conv2D(nb_filter, (3, 3),\n",
    "                   kernel_initializer=\"he_uniform\",\n",
    "                   padding=\"same\",\n",
    "                   name=\"initial_conv2D\",\n",
    "                   use_bias=True,\n",
    "                   kernel_regularizer=l2(weight_decay))(model_input)\n",
    "    #blocks\n",
    "    for block_idx in range(nb_dense_block - 1):\n",
    "        x, nb_filter = denseblock(x, nb_layers, nb_filter, growth_rate,\n",
    "                                  dropout_rate=dropout_rate)\n",
    "        # add transition\n",
    "        x = transition(x, nb_filter, dropout_rate=dropout_rate,\n",
    "                       weight_decay=weight_decay)\n",
    "\n",
    "    #last block \n",
    "    x, nb_filter = denseblock(x, nb_layers, nb_filter, growth_rate,\n",
    "                                  dropout_rate=dropout_rate,\n",
    "                                  weight_decay=weight_decay)\n",
    "\n",
    "    x = BatchNormalization(axis=1,\n",
    "                           gamma_regularizer=l2(weight_decay),\n",
    "                           beta_regularizer=l2(weight_decay))(x)\n",
    "    x = Activation('relu')(x)\n",
    "    x = GlobalAveragePooling2D(data_format=K.image_data_format())(x)\n",
    "    #more layers\n",
    "\n",
    "    model_output = Dense(num_class, activation='sigmoid')(x)\n",
    "\n",
    "    model = Model(inputs=[model_input], outputs=[model_output], name=\"DenseNet\")\n",
    "    \n",
    "    return model"
   ]
  },
  {
   "cell_type": "code",
   "execution_count": null,
   "metadata": {},
   "outputs": [],
   "source": [
    "cdn=getCutmoizedDenseNet()\n",
    "cdn.compile(loss='binary_crossentropy', optimizer='adam')\n",
    "\n",
    "print(cdn.summary())"
   ]
  },
  {
   "cell_type": "code",
   "execution_count": null,
   "metadata": {},
   "outputs": [],
   "source": [
    "SVG(model_to_dot(cdn, show_shapes=True).create(prog='dot', format='svg'))"
   ]
  },
  {
   "cell_type": "code",
   "execution_count": null,
   "metadata": {},
   "outputs": [],
   "source": [
    "%%time\n",
    "\n",
    "epochs = 3\n",
    "\n",
    "history = cdn.fit(X,y,epochs=epochs,batch_size=64,verbose=1)"
   ]
  },
  {
   "cell_type": "code",
   "execution_count": null,
   "metadata": {},
   "outputs": [],
   "source": [
    "plt.figure(figsize=(5,3))\n",
    "plt.plot(history.epoch,history.history['loss'])\n",
    "plt.title('loss')"
   ]
  },
  {
   "cell_type": "code",
   "execution_count": null,
   "metadata": {},
   "outputs": [],
   "source": [
    "%%time\n",
    "\n",
    "epochs = 3\n",
    "#5-fold cross validation\n",
    "score = []\n",
    "kf = KFold(n_splits=5,shuffle=True)\n",
    "for train,val in kf.split(X, y):\n",
    "    cdn=getCutmoizedDenseNet()\n",
    "    cdn.compile(loss='binary_crossentropy', optimizer='adam')\n",
    "    cdn.fit(X[train],y[train],epochs=epochs,batch_size=64,verbose=1)\n",
    "    y_train_pred = cdn.predict(X[train],batch_size=32, verbose=1)\n",
    "    threshold=getThreshold(y_train_pred,y[train],0.001)\n",
    "    y_val_pred = 1*(cdn.predict(X[val],batch_size=32, verbose=1)>threshold)    \n",
    "    score.append(f1_score(y[val], y_val_pred, average='micro'))\n",
    "print(\"F1 Score:\", np.mean(score),\"+/-\", np.std(score))"
   ]
  },
  {
   "cell_type": "markdown",
   "metadata": {},
   "source": [
    "#### Classic ConvNet"
   ]
  },
  {
   "cell_type": "code",
   "execution_count": null,
   "metadata": {},
   "outputs": [],
   "source": [
    "def getConvNet():\n",
    "    model=Sequential()\n",
    "    model.add(Conv2D(filters=32, kernel_size=(3, 3),padding='same', input_shape=X.shape[1:],activation=\"relu\"))\n",
    "    model.add(Conv2D(filters=32, kernel_size=(3, 3),activation=\"relu\"))\n",
    "    model.add(MaxPooling2D(2,2))\n",
    "    model.add(Dropout(0.25))\n",
    "    model.add(Conv2D(filters=64, kernel_size=(3, 3),activation=\"relu\"))\n",
    "    model.add(Conv2D(filters=64, kernel_size=(3, 3),activation=\"relu\"))\n",
    "    model.add(MaxPooling2D(2,2))\n",
    "    model.add(Dropout(0.25))\n",
    "    model.add(Flatten())\n",
    "    model.add(Dense(512))\n",
    "    model.add(BatchNormalization())\n",
    "    model.add(Activation(\"relu\"))\n",
    "    model.add(Dropout(0.5))\n",
    "    model.add(Dense(num_class))\n",
    "    model.add(Activation(\"sigmoid\"))\n",
    "    return model"
   ]
  },
  {
   "cell_type": "code",
   "execution_count": null,
   "metadata": {},
   "outputs": [],
   "source": [
    "cn=getConvNet()\n",
    "cn.compile(loss='binary_crossentropy',optimizer='adam')\n",
    "print(cn.summary())"
   ]
  },
  {
   "cell_type": "code",
   "execution_count": null,
   "metadata": {},
   "outputs": [],
   "source": [
    "%%time\n",
    "\n",
    "epochs = 3\n",
    "\n",
    "history = cn.fit(X,y,epochs=epochs,batch_size=64,verbose=1)"
   ]
  },
  {
   "cell_type": "code",
   "execution_count": null,
   "metadata": {},
   "outputs": [],
   "source": [
    "plt.figure(figsize=(5,3))\n",
    "plt.plot(history.epoch,history.history['loss'])\n",
    "plt.title('loss')"
   ]
  },
  {
   "cell_type": "code",
   "execution_count": null,
   "metadata": {},
   "outputs": [],
   "source": [
    "%%time\n",
    "\n",
    "\n",
    "epochs = 1\n",
    "#5-fold cross validation\n",
    "score = []\n",
    "kf = KFold(n_splits=5,shuffle=True)\n",
    "for train,val in kf.split(X, y):\n",
    "    cn=getConvNet()\n",
    "    cn.compile(loss='binary_crossentropy', optimizer='adam')\n",
    "    cn.fit(X[train],y[train],epochs=epochs,batch_size=64,verbose=1)\n",
    "    y_train_pred = cn.predict(X[train],batch_size=32, verbose=1)\n",
    "    threshold=getThreshold(y_train_pred,y[train],0.001)\n",
    "    y_val_pred = 1*(cn.predict(X[val],batch_size=32, verbose=1)>threshold)    \n",
    "    score.append(f1_score(y[val], y_val_pred, average='micro'))\n",
    "print(\"F1 Score:\", np.mean(score),\"+/-\", np.std(score))"
   ]
  },
  {
   "cell_type": "markdown",
   "metadata": {},
   "source": [
    "#### What if we just guess the label according to the probability of zero and one of each label......."
   ]
  },
  {
   "cell_type": "code",
   "execution_count": 49,
   "metadata": {},
   "outputs": [
    {
     "name": "stdout",
     "output_type": "stream",
     "text": [
      "The score of random guess: 0.181511437503\n"
     ]
    }
   ],
   "source": [
    "random=np.zeros((N,num_class))\n",
    "for i in range(num_class):\n",
    "    p_0=(y[:,i]==0).sum()/N\n",
    "    random[:,i] = np.random.choice([0,1], N, p=[p_0, 1-p_0])\n",
    "\n",
    "print(\"The score of random guess:\",f1_score(y,random, average='micro'))"
   ]
  },
  {
   "cell_type": "markdown",
   "metadata": {},
   "source": [
    "## Save your model\n",
    "\n",
    "It might be useful to save your model if you want to continue your work later, or use it for inference later."
   ]
  },
  {
   "cell_type": "code",
   "execution_count": null,
   "metadata": {},
   "outputs": [],
   "source": [
    "model.save('model.h5')"
   ]
  },
  {
   "cell_type": "markdown",
   "metadata": {},
   "source": [
    "The model file should now be visible in the \"Home\" screen of the jupyter notebooks interface.  There you should be able to select it and press \"download\"."
   ]
  },
  {
   "cell_type": "markdown",
   "metadata": {},
   "source": [
    "## Predict for test set\n",
    "\n",
    "You will be asked to return your prediction for the testset.  These should be returned as a matrix with one row for each test set image.  Each row contains a binary prediction for each label, 1 if it's present in the image, and 0 if not. The order of the labels is as follows (alphabetic order of the label names):\n",
    "\n",
    "    baby bird car clouds dog female flower male night people portrait river sea tree\n",
    "\n",
    "An example row could like like this if your system predicts the presense of a bird and clouds:\n",
    "\n",
    "    0 1 0 1 0 0 0 0 0 0 0 0 0 0\n",
    "    \n",
    "If you have the matrix prepared in `y` (e.g., by calling `y=model.predict(x_test)`) you can use the following function to save it to a text file."
   ]
  },
  {
   "cell_type": "code",
   "execution_count": null,
   "metadata": {},
   "outputs": [],
   "source": [
    "np.savetxt('results.txt', y, fmt='%d')"
   ]
  }
 ],
 "metadata": {
  "kernelspec": {
   "display_name": "Python 3",
   "language": "python",
   "name": "python3"
  },
  "language_info": {
   "codemirror_mode": {
    "name": "ipython",
    "version": 3
   },
   "file_extension": ".py",
   "mimetype": "text/x-python",
   "name": "python",
   "nbconvert_exporter": "python",
   "pygments_lexer": "ipython3",
   "version": "3.6.2"
  }
 },
 "nbformat": 4,
 "nbformat_minor": 2
}
